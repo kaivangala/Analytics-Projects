{
 "cells": [
  {
   "cell_type": "code",
   "execution_count": 1,
   "metadata": {
    "collapsed": true
   },
   "outputs": [],
   "source": [
    "import pandas as pd\n",
    "import numpy as np \n",
    "import matplotlib.pyplot as plt\n",
    "import seaborn as sns\n",
    "%matplotlib inline"
   ]
  },
  {
   "cell_type": "code",
   "execution_count": 2,
   "metadata": {
    "collapsed": true
   },
   "outputs": [],
   "source": [
    "#Read Train and Test File\n",
    "train_df=pd.read_csv(\"Train_UWu5bXk.csv\")\n",
    "test_df=pd.read_csv(\"Test_u94Q5KV.csv\")"
   ]
  },
  {
   "cell_type": "code",
   "execution_count": 3,
   "metadata": {},
   "outputs": [
    {
     "data": {
      "text/html": [
       "<div>\n",
       "<style>\n",
       "    .dataframe thead tr:only-child th {\n",
       "        text-align: right;\n",
       "    }\n",
       "\n",
       "    .dataframe thead th {\n",
       "        text-align: left;\n",
       "    }\n",
       "\n",
       "    .dataframe tbody tr th {\n",
       "        vertical-align: top;\n",
       "    }\n",
       "</style>\n",
       "<table border=\"1\" class=\"dataframe\">\n",
       "  <thead>\n",
       "    <tr style=\"text-align: right;\">\n",
       "      <th></th>\n",
       "      <th>0</th>\n",
       "      <th>1</th>\n",
       "      <th>2</th>\n",
       "      <th>3</th>\n",
       "      <th>4</th>\n",
       "    </tr>\n",
       "  </thead>\n",
       "  <tbody>\n",
       "    <tr>\n",
       "      <th>Item_Identifier</th>\n",
       "      <td>FDA15</td>\n",
       "      <td>DRC01</td>\n",
       "      <td>FDN15</td>\n",
       "      <td>FDX07</td>\n",
       "      <td>NCD19</td>\n",
       "    </tr>\n",
       "    <tr>\n",
       "      <th>Item_Weight</th>\n",
       "      <td>9.3</td>\n",
       "      <td>5.92</td>\n",
       "      <td>17.5</td>\n",
       "      <td>19.2</td>\n",
       "      <td>8.93</td>\n",
       "    </tr>\n",
       "    <tr>\n",
       "      <th>Item_Fat_Content</th>\n",
       "      <td>Low Fat</td>\n",
       "      <td>Regular</td>\n",
       "      <td>Low Fat</td>\n",
       "      <td>Regular</td>\n",
       "      <td>Low Fat</td>\n",
       "    </tr>\n",
       "    <tr>\n",
       "      <th>Item_Visibility</th>\n",
       "      <td>0.0160473</td>\n",
       "      <td>0.0192782</td>\n",
       "      <td>0.0167601</td>\n",
       "      <td>0</td>\n",
       "      <td>0</td>\n",
       "    </tr>\n",
       "    <tr>\n",
       "      <th>Item_Type</th>\n",
       "      <td>Dairy</td>\n",
       "      <td>Soft Drinks</td>\n",
       "      <td>Meat</td>\n",
       "      <td>Fruits and Vegetables</td>\n",
       "      <td>Household</td>\n",
       "    </tr>\n",
       "    <tr>\n",
       "      <th>Item_MRP</th>\n",
       "      <td>249.809</td>\n",
       "      <td>48.2692</td>\n",
       "      <td>141.618</td>\n",
       "      <td>182.095</td>\n",
       "      <td>53.8614</td>\n",
       "    </tr>\n",
       "    <tr>\n",
       "      <th>Outlet_Identifier</th>\n",
       "      <td>OUT049</td>\n",
       "      <td>OUT018</td>\n",
       "      <td>OUT049</td>\n",
       "      <td>OUT010</td>\n",
       "      <td>OUT013</td>\n",
       "    </tr>\n",
       "    <tr>\n",
       "      <th>Outlet_Establishment_Year</th>\n",
       "      <td>1999</td>\n",
       "      <td>2009</td>\n",
       "      <td>1999</td>\n",
       "      <td>1998</td>\n",
       "      <td>1987</td>\n",
       "    </tr>\n",
       "    <tr>\n",
       "      <th>Outlet_Size</th>\n",
       "      <td>Medium</td>\n",
       "      <td>Medium</td>\n",
       "      <td>Medium</td>\n",
       "      <td>NaN</td>\n",
       "      <td>High</td>\n",
       "    </tr>\n",
       "    <tr>\n",
       "      <th>Outlet_Location_Type</th>\n",
       "      <td>Tier 1</td>\n",
       "      <td>Tier 3</td>\n",
       "      <td>Tier 1</td>\n",
       "      <td>Tier 3</td>\n",
       "      <td>Tier 3</td>\n",
       "    </tr>\n",
       "    <tr>\n",
       "      <th>Outlet_Type</th>\n",
       "      <td>Supermarket Type1</td>\n",
       "      <td>Supermarket Type2</td>\n",
       "      <td>Supermarket Type1</td>\n",
       "      <td>Grocery Store</td>\n",
       "      <td>Supermarket Type1</td>\n",
       "    </tr>\n",
       "    <tr>\n",
       "      <th>Item_Outlet_Sales</th>\n",
       "      <td>3735.14</td>\n",
       "      <td>443.423</td>\n",
       "      <td>2097.27</td>\n",
       "      <td>732.38</td>\n",
       "      <td>994.705</td>\n",
       "    </tr>\n",
       "  </tbody>\n",
       "</table>\n",
       "</div>"
      ],
      "text/plain": [
       "                                           0                  1  \\\n",
       "Item_Identifier                        FDA15              DRC01   \n",
       "Item_Weight                              9.3               5.92   \n",
       "Item_Fat_Content                     Low Fat            Regular   \n",
       "Item_Visibility                    0.0160473          0.0192782   \n",
       "Item_Type                              Dairy        Soft Drinks   \n",
       "Item_MRP                             249.809            48.2692   \n",
       "Outlet_Identifier                     OUT049             OUT018   \n",
       "Outlet_Establishment_Year               1999               2009   \n",
       "Outlet_Size                           Medium             Medium   \n",
       "Outlet_Location_Type                  Tier 1             Tier 3   \n",
       "Outlet_Type                Supermarket Type1  Supermarket Type2   \n",
       "Item_Outlet_Sales                    3735.14            443.423   \n",
       "\n",
       "                                           2                      3  \\\n",
       "Item_Identifier                        FDN15                  FDX07   \n",
       "Item_Weight                             17.5                   19.2   \n",
       "Item_Fat_Content                     Low Fat                Regular   \n",
       "Item_Visibility                    0.0167601                      0   \n",
       "Item_Type                               Meat  Fruits and Vegetables   \n",
       "Item_MRP                             141.618                182.095   \n",
       "Outlet_Identifier                     OUT049                 OUT010   \n",
       "Outlet_Establishment_Year               1999                   1998   \n",
       "Outlet_Size                           Medium                    NaN   \n",
       "Outlet_Location_Type                  Tier 1                 Tier 3   \n",
       "Outlet_Type                Supermarket Type1          Grocery Store   \n",
       "Item_Outlet_Sales                    2097.27                 732.38   \n",
       "\n",
       "                                           4  \n",
       "Item_Identifier                        NCD19  \n",
       "Item_Weight                             8.93  \n",
       "Item_Fat_Content                     Low Fat  \n",
       "Item_Visibility                            0  \n",
       "Item_Type                          Household  \n",
       "Item_MRP                             53.8614  \n",
       "Outlet_Identifier                     OUT013  \n",
       "Outlet_Establishment_Year               1987  \n",
       "Outlet_Size                             High  \n",
       "Outlet_Location_Type                  Tier 3  \n",
       "Outlet_Type                Supermarket Type1  \n",
       "Item_Outlet_Sales                    994.705  "
      ]
     },
     "execution_count": 3,
     "metadata": {},
     "output_type": "execute_result"
    }
   ],
   "source": [
    "train_df.head().T"
   ]
  },
  {
   "cell_type": "code",
   "execution_count": 4,
   "metadata": {
    "scrolled": true
   },
   "outputs": [
    {
     "data": {
      "text/plain": [
       "Item_Identifier               object\n",
       "Item_Weight                  float64\n",
       "Item_Fat_Content              object\n",
       "Item_Visibility              float64\n",
       "Item_Type                     object\n",
       "Item_MRP                     float64\n",
       "Outlet_Identifier             object\n",
       "Outlet_Establishment_Year      int64\n",
       "Outlet_Size                   object\n",
       "Outlet_Location_Type          object\n",
       "Outlet_Type                   object\n",
       "Item_Outlet_Sales            float64\n",
       "dtype: object"
      ]
     },
     "execution_count": 4,
     "metadata": {},
     "output_type": "execute_result"
    }
   ],
   "source": [
    "train_df.dtypes"
   ]
  },
  {
   "cell_type": "code",
   "execution_count": 5,
   "metadata": {},
   "outputs": [
    {
     "data": {
      "text/plain": [
       "(8523, 12)"
      ]
     },
     "execution_count": 5,
     "metadata": {},
     "output_type": "execute_result"
    }
   ],
   "source": [
    "train_df.shape"
   ]
  },
  {
   "cell_type": "code",
   "execution_count": 6,
   "metadata": {},
   "outputs": [
    {
     "data": {
      "text/plain": [
       "(5681, 11)"
      ]
     },
     "execution_count": 6,
     "metadata": {},
     "output_type": "execute_result"
    }
   ],
   "source": [
    "test_df.shape"
   ]
  },
  {
   "cell_type": "code",
   "execution_count": 7,
   "metadata": {},
   "outputs": [
    {
     "data": {
      "text/html": [
       "<div>\n",
       "<style>\n",
       "    .dataframe thead tr:only-child th {\n",
       "        text-align: right;\n",
       "    }\n",
       "\n",
       "    .dataframe thead th {\n",
       "        text-align: left;\n",
       "    }\n",
       "\n",
       "    .dataframe tbody tr th {\n",
       "        vertical-align: top;\n",
       "    }\n",
       "</style>\n",
       "<table border=\"1\" class=\"dataframe\">\n",
       "  <thead>\n",
       "    <tr style=\"text-align: right;\">\n",
       "      <th></th>\n",
       "      <th>train_df</th>\n",
       "      <th>test_df</th>\n",
       "    </tr>\n",
       "  </thead>\n",
       "  <tbody>\n",
       "    <tr>\n",
       "      <th>Item_Identifier</th>\n",
       "      <td>0</td>\n",
       "      <td>0.0</td>\n",
       "    </tr>\n",
       "    <tr>\n",
       "      <th>Item_Weight</th>\n",
       "      <td>1463</td>\n",
       "      <td>976.0</td>\n",
       "    </tr>\n",
       "    <tr>\n",
       "      <th>Item_Fat_Content</th>\n",
       "      <td>0</td>\n",
       "      <td>0.0</td>\n",
       "    </tr>\n",
       "    <tr>\n",
       "      <th>Item_Visibility</th>\n",
       "      <td>0</td>\n",
       "      <td>0.0</td>\n",
       "    </tr>\n",
       "    <tr>\n",
       "      <th>Item_Type</th>\n",
       "      <td>0</td>\n",
       "      <td>0.0</td>\n",
       "    </tr>\n",
       "    <tr>\n",
       "      <th>Item_MRP</th>\n",
       "      <td>0</td>\n",
       "      <td>0.0</td>\n",
       "    </tr>\n",
       "    <tr>\n",
       "      <th>Outlet_Identifier</th>\n",
       "      <td>0</td>\n",
       "      <td>0.0</td>\n",
       "    </tr>\n",
       "    <tr>\n",
       "      <th>Outlet_Establishment_Year</th>\n",
       "      <td>0</td>\n",
       "      <td>0.0</td>\n",
       "    </tr>\n",
       "    <tr>\n",
       "      <th>Outlet_Size</th>\n",
       "      <td>2410</td>\n",
       "      <td>1606.0</td>\n",
       "    </tr>\n",
       "    <tr>\n",
       "      <th>Outlet_Location_Type</th>\n",
       "      <td>0</td>\n",
       "      <td>0.0</td>\n",
       "    </tr>\n",
       "    <tr>\n",
       "      <th>Outlet_Type</th>\n",
       "      <td>0</td>\n",
       "      <td>0.0</td>\n",
       "    </tr>\n",
       "    <tr>\n",
       "      <th>Item_Outlet_Sales</th>\n",
       "      <td>0</td>\n",
       "      <td>NaN</td>\n",
       "    </tr>\n",
       "  </tbody>\n",
       "</table>\n",
       "</div>"
      ],
      "text/plain": [
       "                           train_df  test_df\n",
       "Item_Identifier                   0      0.0\n",
       "Item_Weight                    1463    976.0\n",
       "Item_Fat_Content                  0      0.0\n",
       "Item_Visibility                   0      0.0\n",
       "Item_Type                         0      0.0\n",
       "Item_MRP                          0      0.0\n",
       "Outlet_Identifier                 0      0.0\n",
       "Outlet_Establishment_Year         0      0.0\n",
       "Outlet_Size                    2410   1606.0\n",
       "Outlet_Location_Type              0      0.0\n",
       "Outlet_Type                       0      0.0\n",
       "Item_Outlet_Sales                 0      NaN"
      ]
     },
     "execution_count": 7,
     "metadata": {},
     "output_type": "execute_result"
    }
   ],
   "source": [
    "#printing missing values in each coloumn in both train n test DF\n",
    "k=pd.DataFrame()\n",
    "k['train_df']=train_df.isnull().sum()\n",
    "k['test_df']=test_df.isnull().sum()\n",
    "k\n"
   ]
  },
  {
   "cell_type": "code",
   "execution_count": 10,
   "metadata": {},
   "outputs": [
    {
     "data": {
      "text/plain": [
       "<matplotlib.axes._subplots.AxesSubplot at 0x20a92ac6e48>"
      ]
     },
     "execution_count": 10,
     "metadata": {},
     "output_type": "execute_result"
    },
    {
     "data": {
      "image/png": "[encoded data removed]",
      "text/plain": [
       "<matplotlib.figure.Figure at 0x20a9261b208>"
      ]
     },
     "metadata": {},
     "output_type": "display_data"
    }
   ],
   "source": [
    "# EDA - Boxplot which shows distribution of Item_Weight across Outlet Identifiers\n",
    "plt.subplots(figsize=(15,5))\n",
    "\n",
    "sns.boxplot(y='Item_Weight',x='Outlet_Identifier', data=train_df)\n",
    "#sns.countplot(train_df['Item_Type'],palette='summer')"
   ]
  },
  {
   "cell_type": "code",
   "execution_count": 9,
   "metadata": {},
   "outputs": [
    {
     "data": {
      "text/plain": [
       "<matplotlib.axes._subplots.AxesSubplot at 0x20a9261bd30>"
      ]
     },
     "execution_count": 9,
     "metadata": {},
     "output_type": "execute_result"
    },
    {
     "data": {
      "image/png": "[encoded data removed]",
      "text/plain": [
       "<matplotlib.figure.Figure at 0x20a9261b400>"
      ]
     },
     "metadata": {},
     "output_type": "display_data"
    }
   ],
   "source": [
    "# \n",
    "plt.subplots(figsize=(15,10))\n",
    "\n",
    "sns.boxplot(y='Item_Visibility',x='Outlet_Identifier', data=train_df)\n",
    "#sns.countplot(train_df['Item_Type'],palette='summer')\n",
    "# OUT010 and OUT019 have more item  visibility, which means they could belong to small grocery stores"
   ]
  },
  {
   "cell_type": "code",
   "execution_count": 38,
   "metadata": {},
   "outputs": [
    {
     "data": {
      "text/plain": [
       "<matplotlib.axes._subplots.AxesSubplot at 0x201e791cb00>"
      ]
     },
     "execution_count": 38,
     "metadata": {},
     "output_type": "execute_result"
    },
    {
     "data": {
      "image/png": "[encoded data removed]",
      "text/plain": [
       "<matplotlib.figure.Figure at 0x201e74e70b8>"
      ]
     },
     "metadata": {},
     "output_type": "display_data"
    }
   ],
   "source": [
    "# EDA\n",
    "plt.subplots(figsize=(15,10))\n",
    "\n",
    "sns.boxplot(y='Item_Outlet_Sales',x='Outlet_Identifier', data=train_df)\n",
    "#sns.countplot(train_df['Item_Type'],palette='summer')\n",
    "#The previous assumption holds true. Sales of OUT010 and OUT019 are less. "
   ]
  },
  {
   "cell_type": "code",
   "execution_count": 39,
   "metadata": {},
   "outputs": [
    {
     "data": {
      "text/plain": [
       "<matplotlib.axes._subplots.AxesSubplot at 0x201e8bfae10>"
      ]
     },
     "execution_count": 39,
     "metadata": {},
     "output_type": "execute_result"
    },
    {
     "data": {
      "image/png": "[encoded data removed]",
      "text/plain": [
       "<matplotlib.figure.Figure at 0x201e74c0eb8>"
      ]
     },
     "metadata": {},
     "output_type": "display_data"
    }
   ],
   "source": [
    "plt.subplots(figsize=(20,10))\n",
    "\n",
    "sns.boxplot(y='Item_Outlet_Sales',x='Item_Type', hue='Outlet_Type', data=train_df)"
   ]
  },
  {
   "cell_type": "code",
   "execution_count": 40,
   "metadata": {},
   "outputs": [
    {
     "data": {
      "text/plain": [
       "<matplotlib.axes._subplots.AxesSubplot at 0x201e9caeb70>"
      ]
     },
     "execution_count": 40,
     "metadata": {},
     "output_type": "execute_result"
    },
    {
     "data": {
      "image/png": "[encoded data removed]",
      "text/plain": [
       "<matplotlib.figure.Figure at 0x201e9ba6a58>"
      ]
     },
     "metadata": {},
     "output_type": "display_data"
    }
   ],
   "source": [
    "plt.subplots(figsize=(15,5))\n",
    "sns.countplot(train_df['Item_Fat_Content'],palette='summer')\n",
    "#Low Fat= low fat = LF & Regular=reg"
   ]
  },
  {
   "cell_type": "code",
   "execution_count": 41,
   "metadata": {},
   "outputs": [
    {
     "data": {
      "text/plain": [
       "<matplotlib.axes._subplots.AxesSubplot at 0x201e9ca70f0>"
      ]
     },
     "execution_count": 41,
     "metadata": {},
     "output_type": "execute_result"
    },
    {
     "data": {
      "image/png": "[encoded data removed]",
      "text/plain": [
       "<matplotlib.figure.Figure at 0x201e9cff390>"
      ]
     },
     "metadata": {},
     "output_type": "display_data"
    }
   ],
   "source": [
    "# EDA\n",
    "plt.subplots(figsize=(10,10))\n",
    "\n",
    "sns.boxplot(y='Item_Outlet_Sales',x='Outlet_Type',hue='Outlet_Size', data=train_df)"
   ]
  },
  {
   "cell_type": "code",
   "execution_count": 42,
   "metadata": {},
   "outputs": [
    {
     "data": {
      "text/plain": [
       "<matplotlib.axes._subplots.AxesSubplot at 0x201ea044780>"
      ]
     },
     "execution_count": 42,
     "metadata": {},
     "output_type": "execute_result"
    },
    {
     "data": {
      "image/png": "[encoded data removed]",
      "text/plain": [
       "<matplotlib.figure.Figure at 0x201e74794a8>"
      ]
     },
     "metadata": {},
     "output_type": "display_data"
    }
   ],
   "source": [
    "sns.distplot(train_df['Item_Visibility'])\n",
    "#Skewed data"
   ]
  },
  {
   "cell_type": "code",
   "execution_count": 39,
   "metadata": {
    "collapsed": true
   },
   "outputs": [],
   "source": [
    "#filling missing values of Item_Weight  with the help of item identifier\n",
    "train_df[\"Item_Weight\"].fillna(train_df.groupby(\"Item_Identifier\")[\"Item_Weight\"].transform(\"mean\"), inplace=True)\n",
    "test_df[\"Item_Weight\"].fillna(test_df.groupby(\"Item_Identifier\")[\"Item_Weight\"].transform(\"mean\"), inplace=True)\n",
    "train_df['Item_Weight'] = train_df['Item_Weight'].fillna(train_df['Item_Weight'].median())\n",
    "test_df['Item_Weight'] = test_df['Item_Weight'].fillna(test_df['Item_Weight'].median())\n"
   ]
  },
  {
   "cell_type": "code",
   "execution_count": 4,
   "metadata": {},
   "outputs": [
    {
     "name": "stdout",
     "output_type": "stream",
     "text": [
      "\n",
      " Unique value of \"Item_Identifier\" is \"1559\" \n",
      "\n",
      " Unique value of \"Item_Weight\" is \"497\" \n",
      "\n",
      " Unique value of \"Item_Fat_Content\" is \"5\" \n",
      "\n",
      " Unique value of \"Item_Visibility\" is \"7880\" \n",
      "\n",
      " Unique value of \"Item_Type\" is \"16\" \n",
      "\n",
      " Unique value of \"Item_MRP\" is \"5938\" \n",
      "\n",
      " Unique value of \"Outlet_Identifier\" is \"10\" \n",
      "\n",
      " Unique value of \"Outlet_Establishment_Year\" is \"9\" \n",
      "\n",
      " Unique value of \"Outlet_Size\" is \"3\" \n",
      "\n",
      " Unique value of \"Outlet_Location_Type\" is \"3\" \n",
      "\n",
      " Unique value of \"Outlet_Type\" is \"4\" \n",
      "\n",
      " Unique value of \"Item_Outlet_Sales\" is \"3493\" \n"
     ]
    }
   ],
   "source": [
    "#Printing unique values in every coloumn\n",
    "def uniq(df):\n",
    "    col = df.columns\n",
    "    for i in col:\n",
    "        print('\\n Unique value of \"{}\" is \"{}\" '.format(i,df[i].nunique()))\n",
    "        #print(df[i].unique())\n",
    "uniq(train_df)"
   ]
  },
  {
   "cell_type": "code",
   "execution_count": 40,
   "metadata": {
    "collapsed": true
   },
   "outputs": [],
   "source": [
    "\n",
    "\n",
    "#lf is low fat rf is regular fat\n",
    "\n",
    "train_df['Item_Fat_Content'].replace('LF', 'Low Fat', inplace=True)\n",
    "train_df['Item_Fat_Content'].replace('reg', 'Regular', inplace=True)\n",
    "train_df['Item_Fat_Content'].replace('low fat', 'Low Fat', inplace=True)\n",
    "\n",
    "test_df['Item_Fat_Content'].replace('LF', 'Low Fat', inplace=True)\n",
    "test_df['Item_Fat_Content'].replace('reg', 'Regular', inplace=True)\n",
    "test_df['Item_Fat_Content'].replace('low fat', 'Low Fat', inplace=True)\n",
    "\n",
    "#train_df.loc[train_df['Item_Type_Combined']==\"Non-Consumable\",'Item_Fat_Content'] = \"Non-Edible\"\n",
    "#train_df['Item_Fat_Content'].value_counts()\n"
   ]
  },
  {
   "cell_type": "code",
   "execution_count": 41,
   "metadata": {
    "collapsed": true
   },
   "outputs": [],
   "source": [
    "#Years:\n",
    "train_df['Outlet_Years'] = 2013 - train_df['Outlet_Establishment_Year']\n",
    "test_df['Outlet_Years'] = 2013 - test_df['Outlet_Establishment_Year']\n"
   ]
  },
  {
   "cell_type": "code",
   "execution_count": 42,
   "metadata": {
    "collapsed": true
   },
   "outputs": [],
   "source": [
    "    #adding new coloumn value none for Health and hygeine, household & others\n",
    "\n",
    "    train_df.loc[train_df['Item_Type']=='Health and Hygiene' , 'Item_Fat_Content']=\"Non_Edible\"\n",
    "    train_df.loc[train_df['Item_Type']=='Household' , 'Item_Fat_Content']=\"Non_Edible\"\n",
    "    train_df.loc[train_df['Item_Type']=='Others' , 'Item_Fat_Content']=\"Non_Edible\"\n",
    "\n",
    "test_df.loc[train_df['Item_Type']=='Health and Hygiene' , 'Item_Fat_Content']=\"Non_Edible\"\n",
    "test_df.loc[train_df['Item_Type']=='Household' , 'Item_Fat_Content']=\"Non_Edible\"\n",
    "test_df.loc[train_df['Item_Type']=='Others' , 'Item_Fat_Content']=\"Non_Edible\"\n",
    "\n"
   ]
  },
  {
   "cell_type": "code",
   "execution_count": 43,
   "metadata": {},
   "outputs": [
    {
     "data": {
      "text/plain": [
       "array(['Low Fat', 'Regular', 'Non_Edible'], dtype=object)"
      ]
     },
     "execution_count": 43,
     "metadata": {},
     "output_type": "execute_result"
    }
   ],
   "source": [
    "test_df['Item_Fat_Content'].unique()"
   ]
  },
  {
   "cell_type": "code",
   "execution_count": 44,
   "metadata": {},
   "outputs": [
    {
     "data": {
      "text/plain": [
       "0"
      ]
     },
     "execution_count": 44,
     "metadata": {},
     "output_type": "execute_result"
    }
   ],
   "source": [
    "#replacing item visibility whose value is 0 by mean and reduce skewness by applying log transformation\n",
    "train_df['Item_Visibility'].replace(0, np.nan, inplace=True)\n",
    "train_df[\"Item_Visibility\"].fillna(train_df.groupby(\"Item_Identifier\")[\"Item_Visibility\"].transform(\"mean\"), inplace=True)\n",
    "train_df['Item_Visibility']*=1000\n",
    "train_df['Item_Visibility']=np.log(train_df['Item_Visibility'])\n",
    "\n",
    "test_df['Item_Visibility'].replace(0, np.nan, inplace=True)\n",
    "test_df[\"Item_Visibility\"].fillna(test_df.groupby(\"Item_Identifier\")[\"Item_Visibility\"].transform(\"mean\"), inplace=True)\n",
    "test_df['Item_Visibility'] = test_df['Item_Visibility'].fillna(test_df['Item_Visibility'].median())\n",
    "test_df['Item_Visibility']*=1000\n",
    "test_df['Item_Visibility']=np.log(test_df['Item_Visibility'])\n",
    "\n",
    "test_df[\"Item_Visibility\"].isnull().sum()\n"
   ]
  },
  {
   "cell_type": "code",
   "execution_count": 45,
   "metadata": {},
   "outputs": [
    {
     "data": {
      "text/plain": [
       "Food              6125\n",
       "Non-Consumable    1599\n",
       "Drinks             799\n",
       "Name: Item_Type_Combined, dtype: int64"
      ]
     },
     "execution_count": 45,
     "metadata": {},
     "output_type": "execute_result"
    }
   ],
   "source": [
    "# Create a broad category of Type of Item¶\n",
    "\n",
    "train_df['Item_Identifier'].value_counts()\n",
    "train_df['Item_Type_Combined'] = train_df['Item_Identifier'].apply(lambda x: x[0:2])\n",
    "train_df['Item_Type_Combined'] = train_df['Item_Type_Combined'].map({'FD':'Food',\n",
    "                                                             'NC':'Non-Consumable',\n",
    "                                                             'DR':'Drinks'})\n",
    "train_df['Item_Type_Combined'].value_counts()\n",
    "\n",
    "\n",
    "test_df['Item_Identifier'].value_counts()\n",
    "test_df['Item_Type_Combined'] = test_df['Item_Identifier'].apply(lambda x: x[0:2])\n",
    "test_df['Item_Type_Combined'] = test_df['Item_Type_Combined'].map({'FD':'Food',\n",
    "                                                             'NC':'Non-Consumable',\n",
    "                                                             'DR':'Drinks'})\n",
    "train_df['Item_Type_Combined'].value_counts()"
   ]
  },
  {
   "cell_type": "code",
   "execution_count": 46,
   "metadata": {
    "collapsed": true
   },
   "outputs": [],
   "source": [
    "#replacing outlet size relative to outlet type\n",
    "train_df['Outlet_Size']=train_df.groupby('Outlet_Type').Outlet_Size.transform(lambda x: x.fillna(x.mode()[0]))\n",
    "test_df['Outlet_Size']=test_df.groupby('Outlet_Type').Outlet_Size.transform(lambda x: x.fillna(x.mode()[0]))\n"
   ]
  },
  {
   "cell_type": "code",
   "execution_count": 47,
   "metadata": {
    "collapsed": true
   },
   "outputs": [],
   "source": [
    "#dropping Item_Identifier and Est Year \n",
    "train_df.drop('Item_Identifier', axis=1, inplace=True)\n",
    "test_df.drop('Item_Identifier', axis=1, inplace=True)\n",
    "train_df.drop('Outlet_Establishment_Year', axis=1, inplace=True)\n",
    "test_df.drop('Outlet_Establishment_Year', axis=1, inplace=True)\n"
   ]
  },
  {
   "cell_type": "code",
   "execution_count": 48,
   "metadata": {},
   "outputs": [
    {
     "data": {
      "text/plain": [
       "Item_Weight              float64\n",
       "Item_Fat_Content        category\n",
       "Item_Visibility          float64\n",
       "Item_Type               category\n",
       "Item_MRP                 float64\n",
       "Outlet_Identifier       category\n",
       "Outlet_Size             category\n",
       "Outlet_Location_Type    category\n",
       "Outlet_Type             category\n",
       "Item_Outlet_Sales        float64\n",
       "Outlet_Years               int32\n",
       "Item_Type_Combined      category\n",
       "dtype: object"
      ]
     },
     "execution_count": 48,
     "metadata": {},
     "output_type": "execute_result"
    }
   ],
   "source": [
    "#converting coloumns with less than 16 levels into Categorical data\n",
    "def category_type(df):\n",
    "    col = df.columns\n",
    "    for i in col:\n",
    "        if df[i].nunique()<=16:\n",
    "            df[i] = df[i].astype('category')\n",
    "category_type(train_df)\n",
    "category_type(test_df)\n",
    "train_df['Outlet_Years'] = train_df['Outlet_Years'].astype('int')\n",
    "test_df['Outlet_Years'] = test_df['Outlet_Years'].astype('int')\n",
    "train_df.dtypes"
   ]
  },
  {
   "cell_type": "code",
   "execution_count": 49,
   "metadata": {
    "collapsed": true
   },
   "outputs": [],
   "source": [
    "#univariate analysis - list of categorical coloumns \n",
    "cat_col = ['Item_Fat_Content','Item_Type','Outlet_Location_Type','Outlet_Type','Outlet_Size', 'Outlet_Identifier','Item_Type_Combined']\n"
   ]
  },
  {
   "cell_type": "code",
   "execution_count": 55,
   "metadata": {
    "collapsed": true
   },
   "outputs": [],
   "source": [
    "#sns.kdeplot(train_df['Item_MRP'], shade=True)\n"
   ]
  },
  {
   "cell_type": "code",
   "execution_count": 56,
   "metadata": {},
   "outputs": [
    {
     "data": {
      "text/plain": [
       "<matplotlib.axes._subplots.AxesSubplot at 0x201ea09d5c0>"
      ]
     },
     "execution_count": 56,
     "metadata": {},
     "output_type": "execute_result"
    },
    {
     "data": {
      "image/png": "[encoded data removed]",
      "text/plain": [
       "<matplotlib.figure.Figure at 0x201e9b2dc50>"
      ]
     },
     "metadata": {},
     "output_type": "display_data"
    }
   ],
   "source": [
    "fig ,ax = plt.subplots(1,2,figsize=(14,5))\n",
    "ax1,ax2, = ax.flatten()\n",
    "sns.countplot(train_df['Item_Fat_Content'],palette='rainbow',ax=ax1)\n",
    "sns.countplot(train_df['Item_Type'],palette='summer',ax=ax2)"
   ]
  },
  {
   "cell_type": "code",
   "execution_count": 57,
   "metadata": {},
   "outputs": [
    {
     "data": {
      "text/plain": [
       "<matplotlib.axes._subplots.AxesSubplot at 0x201ea186940>"
      ]
     },
     "execution_count": 57,
     "metadata": {},
     "output_type": "execute_result"
    },
    {
     "data": {
      "image/png": "[encoded data removed]",
      "text/plain": [
       "<matplotlib.figure.Figure at 0x201ea0abb00>"
      ]
     },
     "metadata": {},
     "output_type": "display_data"
    }
   ],
   "source": [
    "\n"
   ]
  },
  {
   "cell_type": "code",
   "execution_count": 58,
   "metadata": {},
   "outputs": [
    {
     "data": {
      "text/plain": [
       "<matplotlib.axes._subplots.AxesSubplot at 0x201ea879978>"
      ]
     },
     "execution_count": 58,
     "metadata": {},
     "output_type": "execute_result"
    },
    {
     "data": {
      "image/png": "[encoded data removed]",
      "text/plain": [
       "<matplotlib.figure.Figure at 0x201ea50cdd8>"
      ]
     },
     "metadata": {},
     "output_type": "display_data"
    }
   ],
   "source": [
    "fig ,ax = plt.subplots(3,1,figsize=(14,14))\n",
    "ax1,ax2,ax3 = ax.flatten()\n",
    "sns.countplot(train_df['Outlet_Identifier'],palette='summer',ax=ax1)\n",
    "sns.countplot(train_df['Outlet_Location_Type'],palette='rainbow',ax=ax2)\n",
    "sns.countplot(train_df['Outlet_Type'],palette='rainbow',ax=ax3)"
   ]
  },
  {
   "cell_type": "code",
   "execution_count": 60,
   "metadata": {},
   "outputs": [
    {
     "data": {
      "text/plain": [
       "<matplotlib.axes._subplots.AxesSubplot at 0x201eb197f98>"
      ]
     },
     "execution_count": 60,
     "metadata": {},
     "output_type": "execute_result"
    },
    {
     "data": {
      "image/png": "[encoded data removed]",
      "text/plain": [
       "<matplotlib.figure.Figure at 0x201ead068d0>"
      ]
     },
     "metadata": {},
     "output_type": "display_data"
    }
   ],
   "source": [
    "fig,ax = plt.subplots(2,2,figsize=(14,8))\n",
    "ax1,ax2,ax3,ax4 = ax.flatten()\n",
    "sns.boxplot(x ='Item_Weight',data=train_df,ax=ax1)\n",
    "sns.distplot(train_df['Item_Visibility'],ax=ax2)\n",
    "sns.boxplot(x ='Item_MRP',data=train_df,ax=ax3)\n",
    "sns.boxplot(y='Item_Weight',x='Outlet_Identifier', data=train_df, ax=ax4)\n",
    "\n"
   ]
  },
  {
   "cell_type": "code",
   "execution_count": 61,
   "metadata": {},
   "outputs": [
    {
     "data": {
      "text/plain": [
       "<matplotlib.axes._subplots.AxesSubplot at 0x201ead52ef0>"
      ]
     },
     "execution_count": 61,
     "metadata": {},
     "output_type": "execute_result"
    },
    {
     "data": {
      "image/png": "[encoded data removed]",
      "text/plain": [
       "<matplotlib.figure.Figure at 0x201e98523c8>"
      ]
     },
     "metadata": {},
     "output_type": "display_data"
    }
   ],
   "source": [
    "#item visibility has some outliers. lets plot a scatter plot against target vraible \n",
    "sns.regplot(x=train_df['Item_Visibility'],y=train_df['Item_Outlet_Sales'])"
   ]
  },
  {
   "cell_type": "code",
   "execution_count": 62,
   "metadata": {},
   "outputs": [
    {
     "data": {
      "text/plain": [
       "count    8523.000000\n",
       "mean        3.985694\n",
       "std         0.788268\n",
       "min         1.273881\n",
       "25%         3.446633\n",
       "50%         4.062164\n",
       "75%         4.593771\n",
       "max         5.794205\n",
       "Name: Item_Visibility, dtype: float64"
      ]
     },
     "execution_count": 62,
     "metadata": {},
     "output_type": "execute_result"
    }
   ],
   "source": [
    "train_df['Item_Visibility'].describe()\n"
   ]
  },
  {
   "cell_type": "code",
   "execution_count": 50,
   "metadata": {},
   "outputs": [
    {
     "name": "stdout",
     "output_type": "stream",
     "text": [
      "1.72592535614 6.31447853633\n",
      "1.98550893708 5.42163554016\n",
      "1.74466099238 6.27325549362\n",
      "1.97665766194 5.47494560488\n"
     ]
    },
    {
     "name": "stderr",
     "output_type": "stream",
     "text": [
      "C:\\Users\\Kai\\Anaconda3\\lib\\site-packages\\pandas\\core\\indexing.py:179: SettingWithCopyWarning: \n",
      "A value is trying to be set on a copy of a slice from a DataFrame\n",
      "\n",
      "See the caveats in the documentation: http://pandas.pydata.org/pandas-docs/stable/indexing.html#indexing-view-versus-copy\n",
      "  self._setitem_with_indexer(indexer, value)\n"
     ]
    }
   ],
   "source": [
    "def outlier(df):\n",
    "        quartile_1,quartile_3 = np.percentile(df['Item_Visibility'],[25,75])\n",
    "        quartile_f,quartile_l = np.percentile(df['Item_Visibility'],[1,99])\n",
    "        IQR = quartile_3-quartile_1\n",
    "        lower_bound = quartile_1 - (1.5*IQR)\n",
    "        upper_bound = quartile_3 + (1.5*IQR)\n",
    "        print(lower_bound,upper_bound)\n",
    "        print(quartile_f,quartile_l)\n",
    "        \n",
    "        df['Item_Visibility'].loc[df['Item_Visibility'] < lower_bound] = quartile_f\n",
    "        df['Item_Visibility'].loc[df['Item_Visibility'] > upper_bound] = quartile_l\n",
    "        \n",
    "outlier(train_df)\n",
    "outlier(test_df)"
   ]
  },
  {
   "cell_type": "code",
   "execution_count": 51,
   "metadata": {
    "collapsed": true
   },
   "outputs": [],
   "source": [
    "def encode_categorical(df,cat_col):\n",
    "    c2,c3 = [],{}\n",
    "    for c in cat_col:\n",
    "        c2.append(c)\n",
    "        c3[c] = c+'_'\n",
    "    df = pd.get_dummies(df, prefix=c3, columns=c2,drop_first=True)\n",
    "    print(df.shape)\n",
    "    return df\n",
    "        "
   ]
  },
  {
   "cell_type": "code",
   "execution_count": 52,
   "metadata": {},
   "outputs": [
    {
     "name": "stdout",
     "output_type": "stream",
     "text": [
      "(8523, 40)\n",
      "(5681, 39)\n"
     ]
    }
   ],
   "source": [
    "df1=encode_categorical(train_df,cat_col)\n",
    "df2=encode_categorical(test_df,cat_col)\n",
    "\n"
   ]
  },
  {
   "cell_type": "code",
   "execution_count": 66,
   "metadata": {},
   "outputs": [
    {
     "data": {
      "text/plain": [
       "Index(['Item_Weight', 'Item_Visibility', 'Item_MRP', 'Item_Outlet_Sales',\n",
       "       'Outlet_Years', 'Item_Fat_Content__Non_Edible',\n",
       "       'Item_Fat_Content__Regular', 'Item_Type__Breads',\n",
       "       'Item_Type__Breakfast', 'Item_Type__Canned', 'Item_Type__Dairy',\n",
       "       'Item_Type__Frozen Foods', 'Item_Type__Fruits and Vegetables',\n",
       "       'Item_Type__Hard Drinks', 'Item_Type__Health and Hygiene',\n",
       "       'Item_Type__Household', 'Item_Type__Meat', 'Item_Type__Others',\n",
       "       'Item_Type__Seafood', 'Item_Type__Snack Foods',\n",
       "       'Item_Type__Soft Drinks', 'Item_Type__Starchy Foods',\n",
       "       'Outlet_Location_Type__Tier 2', 'Outlet_Location_Type__Tier 3',\n",
       "       'Outlet_Type__Supermarket Type1', 'Outlet_Type__Supermarket Type2',\n",
       "       'Outlet_Type__Supermarket Type3', 'Outlet_Size__Medium',\n",
       "       'Outlet_Size__Small', 'Outlet_Identifier__OUT013',\n",
       "       'Outlet_Identifier__OUT017', 'Outlet_Identifier__OUT018',\n",
       "       'Outlet_Identifier__OUT019', 'Outlet_Identifier__OUT027',\n",
       "       'Outlet_Identifier__OUT035', 'Outlet_Identifier__OUT045',\n",
       "       'Outlet_Identifier__OUT046', 'Outlet_Identifier__OUT049',\n",
       "       'Item_Type_Combined__Food', 'Item_Type_Combined__Non-Consumable'],\n",
       "      dtype='object')"
      ]
     },
     "execution_count": 66,
     "metadata": {},
     "output_type": "execute_result"
    }
   ],
   "source": [
    "#creating interactive terms\n",
    "df1.columns"
   ]
  },
  {
   "cell_type": "code",
   "execution_count": 53,
   "metadata": {
    "collapsed": true
   },
   "outputs": [],
   "source": [
    "# interaction effect \n",
    "df1['Outlet_Size__Medium_MRP']=df1.Outlet_Size__Medium.mul(df1.Item_MRP)\n",
    "df1['Outlet_Size__Small_MRP']=df1.Outlet_Size__Small.mul(df1.Item_MRP)\n",
    "\n",
    "#df2['Outlet_Size__Medium_MRP']=df2.Outlet_Size__Medium.mul(df1.Item_MRP)\n",
    "#df2['Outlet_Size__Small_MRP']=df2.Outlet_Size__Small.mul(df1.Item_MRP)"
   ]
  },
  {
   "cell_type": "code",
   "execution_count": 37,
   "metadata": {
    "collapsed": true
   },
   "outputs": [],
   "source": [
    "df1.to_csv(\"Bigmart_analysis.csv\",index=False)"
   ]
  },
  {
   "cell_type": "code",
   "execution_count": 243,
   "metadata": {
    "collapsed": true
   },
   "outputs": [
    {
     "name": "stderr",
     "output_type": "stream",
     "text": [
      "C:\\Users\\Kai\\Anaconda3\\lib\\site-packages\\statsmodels\\stats\\outliers_influence.py:167: RuntimeWarning: divide by zero encountered in double_scalars\n",
      "  vif = 1. / (1. - r_squared_i)\n"
     ]
    },
    {
     "data": {
      "text/html": [
       "<div>\n",
       "<style>\n",
       "    .dataframe thead tr:only-child th {\n",
       "        text-align: right;\n",
       "    }\n",
       "\n",
       "    .dataframe thead th {\n",
       "        text-align: left;\n",
       "    }\n",
       "\n",
       "    .dataframe tbody tr th {\n",
       "        vertical-align: top;\n",
       "    }\n",
       "</style>\n",
       "<table border=\"1\" class=\"dataframe\">\n",
       "  <thead>\n",
       "    <tr style=\"text-align: right;\">\n",
       "      <th></th>\n",
       "      <th>VIF Factor</th>\n",
       "      <th>features</th>\n",
       "    </tr>\n",
       "  </thead>\n",
       "  <tbody>\n",
       "    <tr>\n",
       "      <th>0</th>\n",
       "      <td>1.000000</td>\n",
       "      <td>Item_Weight</td>\n",
       "    </tr>\n",
       "    <tr>\n",
       "      <th>1</th>\n",
       "      <td>1.100000</td>\n",
       "      <td>Item_Visibility</td>\n",
       "    </tr>\n",
       "    <tr>\n",
       "      <th>2</th>\n",
       "      <td>1.800000</td>\n",
       "      <td>Item_MRP</td>\n",
       "    </tr>\n",
       "    <tr>\n",
       "      <th>3</th>\n",
       "      <td>2.300000</td>\n",
       "      <td>Item_Outlet_Sales</td>\n",
       "    </tr>\n",
       "    <tr>\n",
       "      <th>4</th>\n",
       "      <td>inf</td>\n",
       "      <td>Outlet_Years</td>\n",
       "    </tr>\n",
       "    <tr>\n",
       "      <th>5</th>\n",
       "      <td>inf</td>\n",
       "      <td>Item_Fat_Content__Non_Edible</td>\n",
       "    </tr>\n",
       "    <tr>\n",
       "      <th>6</th>\n",
       "      <td>1.200000</td>\n",
       "      <td>Item_Fat_Content__Regular</td>\n",
       "    </tr>\n",
       "    <tr>\n",
       "      <th>7</th>\n",
       "      <td>1.400000</td>\n",
       "      <td>Item_Type__Breads</td>\n",
       "    </tr>\n",
       "    <tr>\n",
       "      <th>8</th>\n",
       "      <td>1.200000</td>\n",
       "      <td>Item_Type__Breakfast</td>\n",
       "    </tr>\n",
       "    <tr>\n",
       "      <th>9</th>\n",
       "      <td>1.900000</td>\n",
       "      <td>Item_Type__Canned</td>\n",
       "    </tr>\n",
       "    <tr>\n",
       "      <th>10</th>\n",
       "      <td>1.900000</td>\n",
       "      <td>Item_Type__Dairy</td>\n",
       "    </tr>\n",
       "    <tr>\n",
       "      <th>11</th>\n",
       "      <td>2.100000</td>\n",
       "      <td>Item_Type__Frozen Foods</td>\n",
       "    </tr>\n",
       "    <tr>\n",
       "      <th>12</th>\n",
       "      <td>2.500000</td>\n",
       "      <td>Item_Type__Fruits and Vegetables</td>\n",
       "    </tr>\n",
       "    <tr>\n",
       "      <th>13</th>\n",
       "      <td>1.300000</td>\n",
       "      <td>Item_Type__Hard Drinks</td>\n",
       "    </tr>\n",
       "    <tr>\n",
       "      <th>14</th>\n",
       "      <td>inf</td>\n",
       "      <td>Item_Type__Health and Hygiene</td>\n",
       "    </tr>\n",
       "    <tr>\n",
       "      <th>15</th>\n",
       "      <td>inf</td>\n",
       "      <td>Item_Type__Household</td>\n",
       "    </tr>\n",
       "    <tr>\n",
       "      <th>16</th>\n",
       "      <td>1.600000</td>\n",
       "      <td>Item_Type__Meat</td>\n",
       "    </tr>\n",
       "    <tr>\n",
       "      <th>17</th>\n",
       "      <td>inf</td>\n",
       "      <td>Item_Type__Others</td>\n",
       "    </tr>\n",
       "    <tr>\n",
       "      <th>18</th>\n",
       "      <td>1.100000</td>\n",
       "      <td>Item_Type__Seafood</td>\n",
       "    </tr>\n",
       "    <tr>\n",
       "      <th>19</th>\n",
       "      <td>2.500000</td>\n",
       "      <td>Item_Type__Snack Foods</td>\n",
       "    </tr>\n",
       "    <tr>\n",
       "      <th>20</th>\n",
       "      <td>1.600000</td>\n",
       "      <td>Item_Type__Soft Drinks</td>\n",
       "    </tr>\n",
       "    <tr>\n",
       "      <th>21</th>\n",
       "      <td>1.200000</td>\n",
       "      <td>Item_Type__Starchy Foods</td>\n",
       "    </tr>\n",
       "    <tr>\n",
       "      <th>22</th>\n",
       "      <td>inf</td>\n",
       "      <td>Outlet_Location_Type__Tier 2</td>\n",
       "    </tr>\n",
       "    <tr>\n",
       "      <th>23</th>\n",
       "      <td>inf</td>\n",
       "      <td>Outlet_Location_Type__Tier 3</td>\n",
       "    </tr>\n",
       "    <tr>\n",
       "      <th>24</th>\n",
       "      <td>inf</td>\n",
       "      <td>Outlet_Type__Supermarket Type1</td>\n",
       "    </tr>\n",
       "    <tr>\n",
       "      <th>25</th>\n",
       "      <td>inf</td>\n",
       "      <td>Outlet_Type__Supermarket Type2</td>\n",
       "    </tr>\n",
       "    <tr>\n",
       "      <th>26</th>\n",
       "      <td>inf</td>\n",
       "      <td>Outlet_Type__Supermarket Type3</td>\n",
       "    </tr>\n",
       "    <tr>\n",
       "      <th>27</th>\n",
       "      <td>inf</td>\n",
       "      <td>Outlet_Size__Medium</td>\n",
       "    </tr>\n",
       "    <tr>\n",
       "      <th>28</th>\n",
       "      <td>inf</td>\n",
       "      <td>Outlet_Size__Small</td>\n",
       "    </tr>\n",
       "    <tr>\n",
       "      <th>29</th>\n",
       "      <td>inf</td>\n",
       "      <td>Outlet_Identifier__OUT013</td>\n",
       "    </tr>\n",
       "    <tr>\n",
       "      <th>30</th>\n",
       "      <td>inf</td>\n",
       "      <td>Outlet_Identifier__OUT017</td>\n",
       "    </tr>\n",
       "    <tr>\n",
       "      <th>31</th>\n",
       "      <td>inf</td>\n",
       "      <td>Outlet_Identifier__OUT018</td>\n",
       "    </tr>\n",
       "    <tr>\n",
       "      <th>32</th>\n",
       "      <td>inf</td>\n",
       "      <td>Outlet_Identifier__OUT019</td>\n",
       "    </tr>\n",
       "    <tr>\n",
       "      <th>33</th>\n",
       "      <td>inf</td>\n",
       "      <td>Outlet_Identifier__OUT027</td>\n",
       "    </tr>\n",
       "    <tr>\n",
       "      <th>34</th>\n",
       "      <td>inf</td>\n",
       "      <td>Outlet_Identifier__OUT035</td>\n",
       "    </tr>\n",
       "    <tr>\n",
       "      <th>35</th>\n",
       "      <td>inf</td>\n",
       "      <td>Outlet_Identifier__OUT045</td>\n",
       "    </tr>\n",
       "    <tr>\n",
       "      <th>36</th>\n",
       "      <td>inf</td>\n",
       "      <td>Outlet_Identifier__OUT046</td>\n",
       "    </tr>\n",
       "    <tr>\n",
       "      <th>37</th>\n",
       "      <td>inf</td>\n",
       "      <td>Outlet_Identifier__OUT049</td>\n",
       "    </tr>\n",
       "  </tbody>\n",
       "</table>\n",
       "</div>"
      ],
      "text/plain": [
       "    VIF Factor                          features\n",
       "0     1.000000                       Item_Weight\n",
       "1     1.100000                   Item_Visibility\n",
       "2     1.800000                          Item_MRP\n",
       "3     2.300000                 Item_Outlet_Sales\n",
       "4          inf                      Outlet_Years\n",
       "5          inf      Item_Fat_Content__Non_Edible\n",
       "6     1.200000         Item_Fat_Content__Regular\n",
       "7     1.400000                 Item_Type__Breads\n",
       "8     1.200000              Item_Type__Breakfast\n",
       "9     1.900000                 Item_Type__Canned\n",
       "10    1.900000                  Item_Type__Dairy\n",
       "11    2.100000           Item_Type__Frozen Foods\n",
       "12    2.500000  Item_Type__Fruits and Vegetables\n",
       "13    1.300000            Item_Type__Hard Drinks\n",
       "14         inf     Item_Type__Health and Hygiene\n",
       "15         inf              Item_Type__Household\n",
       "16    1.600000                   Item_Type__Meat\n",
       "17         inf                 Item_Type__Others\n",
       "18    1.100000                Item_Type__Seafood\n",
       "19    2.500000            Item_Type__Snack Foods\n",
       "20    1.600000            Item_Type__Soft Drinks\n",
       "21    1.200000          Item_Type__Starchy Foods\n",
       "22         inf      Outlet_Location_Type__Tier 2\n",
       "23         inf      Outlet_Location_Type__Tier 3\n",
       "24         inf    Outlet_Type__Supermarket Type1\n",
       "25         inf    Outlet_Type__Supermarket Type2\n",
       "26         inf    Outlet_Type__Supermarket Type3\n",
       "27         inf               Outlet_Size__Medium\n",
       "28         inf                Outlet_Size__Small\n",
       "29         inf         Outlet_Identifier__OUT013\n",
       "30         inf         Outlet_Identifier__OUT017\n",
       "31         inf         Outlet_Identifier__OUT018\n",
       "32         inf         Outlet_Identifier__OUT019\n",
       "33         inf         Outlet_Identifier__OUT027\n",
       "34         inf         Outlet_Identifier__OUT035\n",
       "35         inf         Outlet_Identifier__OUT045\n",
       "36         inf         Outlet_Identifier__OUT046\n",
       "37         inf         Outlet_Identifier__OUT049"
      ]
     },
     "execution_count": 243,
     "metadata": {},
     "output_type": "execute_result"
    }
   ],
   "source": [
    "#multi collinearity treatment \n",
    "vif = pd.DataFrame()\n",
    "vif[\"VIF Factor\"] = [variance_inflation_factor(df1.values, i) for i in range(df1.shape[1])]\n",
    "vif[\"features\"] = df1.columns\n",
    "vif.round(1)"
   ]
  },
  {
   "cell_type": "code",
   "execution_count": 570,
   "metadata": {
    "collapsed": true
   },
   "outputs": [],
   "source": [
    "#df1.drop('Outlet_Size__Small', axis=1, inplace=True)\n",
    "#df2.drop('Outlet_Size__Small', axis=1, inplace=True)"
   ]
  },
  {
   "cell_type": "code",
   "execution_count": 398,
   "metadata": {
    "collapsed": true
   },
   "outputs": [
    {
     "data": {
      "text/html": [
       "<div>\n",
       "<style>\n",
       "    .dataframe thead tr:only-child th {\n",
       "        text-align: right;\n",
       "    }\n",
       "\n",
       "    .dataframe thead th {\n",
       "        text-align: left;\n",
       "    }\n",
       "\n",
       "    .dataframe tbody tr th {\n",
       "        vertical-align: top;\n",
       "    }\n",
       "</style>\n",
       "<table border=\"1\" class=\"dataframe\">\n",
       "  <thead>\n",
       "    <tr style=\"text-align: right;\">\n",
       "      <th></th>\n",
       "      <th>0</th>\n",
       "      <th>1</th>\n",
       "      <th>2</th>\n",
       "    </tr>\n",
       "  </thead>\n",
       "  <tbody>\n",
       "    <tr>\n",
       "      <th>Item_Weight</th>\n",
       "      <td>20.75</td>\n",
       "      <td>8.3</td>\n",
       "      <td>14.6</td>\n",
       "    </tr>\n",
       "    <tr>\n",
       "      <th>Item_Visibility</th>\n",
       "      <td>0.00756484</td>\n",
       "      <td>0.0384277</td>\n",
       "      <td>0.0995749</td>\n",
       "    </tr>\n",
       "    <tr>\n",
       "      <th>Item_MRP</th>\n",
       "      <td>107.862</td>\n",
       "      <td>87.3198</td>\n",
       "      <td>241.754</td>\n",
       "    </tr>\n",
       "    <tr>\n",
       "      <th>Outlet_Identifier</th>\n",
       "      <td>OUT049</td>\n",
       "      <td>OUT017</td>\n",
       "      <td>OUT010</td>\n",
       "    </tr>\n",
       "    <tr>\n",
       "      <th>Item_Fat_Content__Low Fat</th>\n",
       "      <td>1</td>\n",
       "      <td>0</td>\n",
       "      <td>1</td>\n",
       "    </tr>\n",
       "    <tr>\n",
       "      <th>Item_Fat_Content__Regular</th>\n",
       "      <td>0</td>\n",
       "      <td>0</td>\n",
       "      <td>0</td>\n",
       "    </tr>\n",
       "    <tr>\n",
       "      <th>Item_Fat_Content__low fat</th>\n",
       "      <td>0</td>\n",
       "      <td>0</td>\n",
       "      <td>0</td>\n",
       "    </tr>\n",
       "    <tr>\n",
       "      <th>Item_Fat_Content__reg</th>\n",
       "      <td>0</td>\n",
       "      <td>1</td>\n",
       "      <td>0</td>\n",
       "    </tr>\n",
       "    <tr>\n",
       "      <th>Item_Type__Breads</th>\n",
       "      <td>0</td>\n",
       "      <td>0</td>\n",
       "      <td>0</td>\n",
       "    </tr>\n",
       "    <tr>\n",
       "      <th>Item_Type__Breakfast</th>\n",
       "      <td>0</td>\n",
       "      <td>0</td>\n",
       "      <td>0</td>\n",
       "    </tr>\n",
       "    <tr>\n",
       "      <th>Item_Type__Canned</th>\n",
       "      <td>0</td>\n",
       "      <td>0</td>\n",
       "      <td>0</td>\n",
       "    </tr>\n",
       "    <tr>\n",
       "      <th>Item_Type__Dairy</th>\n",
       "      <td>0</td>\n",
       "      <td>1</td>\n",
       "      <td>0</td>\n",
       "    </tr>\n",
       "    <tr>\n",
       "      <th>Item_Type__Frozen Foods</th>\n",
       "      <td>0</td>\n",
       "      <td>0</td>\n",
       "      <td>0</td>\n",
       "    </tr>\n",
       "    <tr>\n",
       "      <th>Item_Type__Fruits and Vegetables</th>\n",
       "      <td>0</td>\n",
       "      <td>0</td>\n",
       "      <td>0</td>\n",
       "    </tr>\n",
       "    <tr>\n",
       "      <th>Item_Type__Hard Drinks</th>\n",
       "      <td>0</td>\n",
       "      <td>0</td>\n",
       "      <td>0</td>\n",
       "    </tr>\n",
       "    <tr>\n",
       "      <th>Item_Type__Health and Hygiene</th>\n",
       "      <td>0</td>\n",
       "      <td>0</td>\n",
       "      <td>0</td>\n",
       "    </tr>\n",
       "    <tr>\n",
       "      <th>Item_Type__Household</th>\n",
       "      <td>0</td>\n",
       "      <td>0</td>\n",
       "      <td>0</td>\n",
       "    </tr>\n",
       "    <tr>\n",
       "      <th>Item_Type__Meat</th>\n",
       "      <td>0</td>\n",
       "      <td>0</td>\n",
       "      <td>0</td>\n",
       "    </tr>\n",
       "    <tr>\n",
       "      <th>Item_Type__Others</th>\n",
       "      <td>0</td>\n",
       "      <td>0</td>\n",
       "      <td>1</td>\n",
       "    </tr>\n",
       "    <tr>\n",
       "      <th>Item_Type__Seafood</th>\n",
       "      <td>0</td>\n",
       "      <td>0</td>\n",
       "      <td>0</td>\n",
       "    </tr>\n",
       "    <tr>\n",
       "      <th>Item_Type__Snack Foods</th>\n",
       "      <td>1</td>\n",
       "      <td>0</td>\n",
       "      <td>0</td>\n",
       "    </tr>\n",
       "    <tr>\n",
       "      <th>Item_Type__Soft Drinks</th>\n",
       "      <td>0</td>\n",
       "      <td>0</td>\n",
       "      <td>0</td>\n",
       "    </tr>\n",
       "    <tr>\n",
       "      <th>Item_Type__Starchy Foods</th>\n",
       "      <td>0</td>\n",
       "      <td>0</td>\n",
       "      <td>0</td>\n",
       "    </tr>\n",
       "    <tr>\n",
       "      <th>Outlet_Location_Type__Tier 2</th>\n",
       "      <td>0</td>\n",
       "      <td>1</td>\n",
       "      <td>0</td>\n",
       "    </tr>\n",
       "    <tr>\n",
       "      <th>Outlet_Location_Type__Tier 3</th>\n",
       "      <td>0</td>\n",
       "      <td>0</td>\n",
       "      <td>1</td>\n",
       "    </tr>\n",
       "    <tr>\n",
       "      <th>Outlet_Type__Supermarket Type1</th>\n",
       "      <td>1</td>\n",
       "      <td>1</td>\n",
       "      <td>0</td>\n",
       "    </tr>\n",
       "    <tr>\n",
       "      <th>Outlet_Type__Supermarket Type2</th>\n",
       "      <td>0</td>\n",
       "      <td>0</td>\n",
       "      <td>0</td>\n",
       "    </tr>\n",
       "    <tr>\n",
       "      <th>Outlet_Type__Supermarket Type3</th>\n",
       "      <td>0</td>\n",
       "      <td>0</td>\n",
       "      <td>0</td>\n",
       "    </tr>\n",
       "    <tr>\n",
       "      <th>Outlet_Size__Medium</th>\n",
       "      <td>1</td>\n",
       "      <td>1</td>\n",
       "      <td>1</td>\n",
       "    </tr>\n",
       "  </tbody>\n",
       "</table>\n",
       "</div>"
      ],
      "text/plain": [
       "                                           0          1          2\n",
       "Item_Weight                            20.75        8.3       14.6\n",
       "Item_Visibility                   0.00756484  0.0384277  0.0995749\n",
       "Item_MRP                             107.862    87.3198    241.754\n",
       "Outlet_Identifier                     OUT049     OUT017     OUT010\n",
       "Item_Fat_Content__Low Fat                  1          0          1\n",
       "Item_Fat_Content__Regular                  0          0          0\n",
       "Item_Fat_Content__low fat                  0          0          0\n",
       "Item_Fat_Content__reg                      0          1          0\n",
       "Item_Type__Breads                          0          0          0\n",
       "Item_Type__Breakfast                       0          0          0\n",
       "Item_Type__Canned                          0          0          0\n",
       "Item_Type__Dairy                           0          1          0\n",
       "Item_Type__Frozen Foods                    0          0          0\n",
       "Item_Type__Fruits and Vegetables           0          0          0\n",
       "Item_Type__Hard Drinks                     0          0          0\n",
       "Item_Type__Health and Hygiene              0          0          0\n",
       "Item_Type__Household                       0          0          0\n",
       "Item_Type__Meat                            0          0          0\n",
       "Item_Type__Others                          0          0          1\n",
       "Item_Type__Seafood                         0          0          0\n",
       "Item_Type__Snack Foods                     1          0          0\n",
       "Item_Type__Soft Drinks                     0          0          0\n",
       "Item_Type__Starchy Foods                   0          0          0\n",
       "Outlet_Location_Type__Tier 2               0          1          0\n",
       "Outlet_Location_Type__Tier 3               0          0          1\n",
       "Outlet_Type__Supermarket Type1             1          1          0\n",
       "Outlet_Type__Supermarket Type2             0          0          0\n",
       "Outlet_Type__Supermarket Type3             0          0          0\n",
       "Outlet_Size__Medium                        1          1          1"
      ]
     },
     "execution_count": 398,
     "metadata": {},
     "output_type": "execute_result"
    }
   ],
   "source": [
    "df2.head(3).T"
   ]
  },
  {
   "cell_type": "code",
   "execution_count": 54,
   "metadata": {
    "collapsed": true
   },
   "outputs": [],
   "source": [
    "y=df1['Item_Outlet_Sales']\n",
    "df1.drop('Item_Outlet_Sales',axis=1,inplace=True)\n",
    "#df1.drop('Outlet_Identifier',axis=1,inplace=True)\n",
    "#df2.drop('Outlet_Identifier',axis=1,inplace=True)\n",
    "\n"
   ]
  },
  {
   "cell_type": "code",
   "execution_count": 55,
   "metadata": {
    "collapsed": true
   },
   "outputs": [],
   "source": [
    "from sklearn.linear_model import LinearRegression\n",
    "from sklearn.cross_validation import cross_val_score\n",
    "import statsmodels.api as sm\n"
   ]
  },
  {
   "cell_type": "code",
   "execution_count": 56,
   "metadata": {
    "collapsed": true
   },
   "outputs": [],
   "source": [
    "lin_model = sm.OLS(y, df1).fit()\n"
   ]
  },
  {
   "cell_type": "code",
   "execution_count": 57,
   "metadata": {
    "collapsed": true
   },
   "outputs": [],
   "source": [
    "predictions = lin_model.predict(df1) # make the predictions by the model"
   ]
  },
  {
   "cell_type": "code",
   "execution_count": 58,
   "metadata": {},
   "outputs": [
    {
     "data": {
      "text/html": [
       "<table class=\"simpletable\">\n",
       "<caption>OLS Regression Results</caption>\n",
       "<tr>\n",
       "  <th>Dep. Variable:</th>    <td>Item_Outlet_Sales</td> <th>  R-squared:         </th> <td>   0.573</td> \n",
       "</tr>\n",
       "<tr>\n",
       "  <th>Model:</th>                   <td>OLS</td>        <th>  Adj. R-squared:    </th> <td>   0.572</td> \n",
       "</tr>\n",
       "<tr>\n",
       "  <th>Method:</th>             <td>Least Squares</td>   <th>  F-statistic:       </th> <td>   368.1</td> \n",
       "</tr>\n",
       "<tr>\n",
       "  <th>Date:</th>             <td>Sun, 01 Apr 2018</td>  <th>  Prob (F-statistic):</th>  <td>  0.00</td>  \n",
       "</tr>\n",
       "<tr>\n",
       "  <th>Time:</th>                 <td>16:20:28</td>      <th>  Log-Likelihood:    </th> <td> -71893.</td> \n",
       "</tr>\n",
       "<tr>\n",
       "  <th>No. Observations:</th>      <td>  8523</td>       <th>  AIC:               </th> <td>1.438e+05</td>\n",
       "</tr>\n",
       "<tr>\n",
       "  <th>Df Residuals:</th>          <td>  8491</td>       <th>  BIC:               </th> <td>1.441e+05</td>\n",
       "</tr>\n",
       "<tr>\n",
       "  <th>Df Model:</th>              <td>    31</td>       <th>                     </th>     <td> </td>    \n",
       "</tr>\n",
       "<tr>\n",
       "  <th>Covariance Type:</th>      <td>nonrobust</td>     <th>                     </th>     <td> </td>    \n",
       "</tr>\n",
       "</table>\n",
       "<table class=\"simpletable\">\n",
       "<tr>\n",
       "                   <td></td>                     <th>coef</th>     <th>std err</th>      <th>t</th>      <th>P>|t|</th>  <th>[0.025</th>    <th>0.975]</th>  \n",
       "</tr>\n",
       "<tr>\n",
       "  <th>Item_Weight</th>                        <td>   -0.1077</td> <td>    2.628</td> <td>   -0.041</td> <td> 0.967</td> <td>   -5.259</td> <td>    5.044</td>\n",
       "</tr>\n",
       "<tr>\n",
       "  <th>Item_Visibility</th>                    <td>  -10.3827</td> <td>   15.899</td> <td>   -0.653</td> <td> 0.514</td> <td>  -41.548</td> <td>   20.782</td>\n",
       "</tr>\n",
       "<tr>\n",
       "  <th>Item_MRP</th>                           <td>   17.2642</td> <td>    0.583</td> <td>   29.630</td> <td> 0.000</td> <td>   16.122</td> <td>   18.406</td>\n",
       "</tr>\n",
       "<tr>\n",
       "  <th>Outlet_Years</th>                       <td>  -10.6948</td> <td>    3.801</td> <td>   -2.813</td> <td> 0.005</td> <td>  -18.146</td> <td>   -3.243</td>\n",
       "</tr>\n",
       "<tr>\n",
       "  <th>Item_Fat_Content__Non_Edible</th>       <td>  -31.5929</td> <td>   51.539</td> <td>   -0.613</td> <td> 0.540</td> <td> -132.621</td> <td>   69.435</td>\n",
       "</tr>\n",
       "<tr>\n",
       "  <th>Item_Fat_Content__Regular</th>          <td>   39.9241</td> <td>   28.158</td> <td>    1.418</td> <td> 0.156</td> <td>  -15.272</td> <td>   95.120</td>\n",
       "</tr>\n",
       "<tr>\n",
       "  <th>Item_Type__Breads</th>                  <td>   10.6202</td> <td>   83.142</td> <td>    0.128</td> <td> 0.898</td> <td> -152.358</td> <td>  173.598</td>\n",
       "</tr>\n",
       "<tr>\n",
       "  <th>Item_Type__Breakfast</th>               <td>   18.0775</td> <td>  115.326</td> <td>    0.157</td> <td> 0.875</td> <td> -207.989</td> <td>  244.144</td>\n",
       "</tr>\n",
       "<tr>\n",
       "  <th>Item_Type__Canned</th>                  <td>   31.3390</td> <td>   62.099</td> <td>    0.505</td> <td> 0.614</td> <td>  -90.391</td> <td>  153.069</td>\n",
       "</tr>\n",
       "<tr>\n",
       "  <th>Item_Type__Dairy</th>                   <td>  -54.0782</td> <td>   65.309</td> <td>   -0.828</td> <td> 0.408</td> <td> -182.099</td> <td>   73.943</td>\n",
       "</tr>\n",
       "<tr>\n",
       "  <th>Item_Type__Frozen Foods</th>            <td>  -29.6158</td> <td>   58.235</td> <td>   -0.509</td> <td> 0.611</td> <td> -143.770</td> <td>   84.538</td>\n",
       "</tr>\n",
       "<tr>\n",
       "  <th>Item_Type__Fruits and Vegetables</th>   <td>   33.6759</td> <td>   54.369</td> <td>    0.619</td> <td> 0.536</td> <td>  -72.901</td> <td>  140.253</td>\n",
       "</tr>\n",
       "<tr>\n",
       "  <th>Item_Type__Hard Drinks</th>             <td>  -68.0212</td> <td>  138.105</td> <td>   -0.493</td> <td> 0.622</td> <td> -338.741</td> <td>  202.699</td>\n",
       "</tr>\n",
       "<tr>\n",
       "  <th>Item_Type__Health and Hygiene</th>      <td>    1.3440</td> <td>   46.990</td> <td>    0.029</td> <td> 0.977</td> <td>  -90.769</td> <td>   93.457</td>\n",
       "</tr>\n",
       "<tr>\n",
       "  <th>Item_Type__Household</th>               <td>  -27.0600</td> <td>   42.183</td> <td>   -0.641</td> <td> 0.521</td> <td> -109.749</td> <td>   55.629</td>\n",
       "</tr>\n",
       "<tr>\n",
       "  <th>Item_Type__Meat</th>                    <td>    9.1661</td> <td>   69.970</td> <td>    0.131</td> <td> 0.896</td> <td> -127.991</td> <td>  146.323</td>\n",
       "</tr>\n",
       "<tr>\n",
       "  <th>Item_Type__Others</th>                  <td>   -5.8768</td> <td>   65.922</td> <td>   -0.089</td> <td> 0.929</td> <td> -135.100</td> <td>  123.346</td>\n",
       "</tr>\n",
       "<tr>\n",
       "  <th>Item_Type__Seafood</th>                 <td>  189.6035</td> <td>  146.388</td> <td>    1.295</td> <td> 0.195</td> <td>  -97.352</td> <td>  476.559</td>\n",
       "</tr>\n",
       "<tr>\n",
       "  <th>Item_Type__Snack Foods</th>             <td>  -15.4150</td> <td>   54.665</td> <td>   -0.282</td> <td> 0.778</td> <td> -122.572</td> <td>   91.742</td>\n",
       "</tr>\n",
       "<tr>\n",
       "  <th>Item_Type__Soft Drinks</th>             <td>  -77.4432</td> <td>  126.614</td> <td>   -0.612</td> <td> 0.541</td> <td> -325.638</td> <td>  170.752</td>\n",
       "</tr>\n",
       "<tr>\n",
       "  <th>Item_Type__Starchy Foods</th>           <td>   15.2323</td> <td>  101.937</td> <td>    0.149</td> <td> 0.881</td> <td> -184.589</td> <td>  215.054</td>\n",
       "</tr>\n",
       "<tr>\n",
       "  <th>Outlet_Location_Type__Tier 2</th>       <td>  540.8050</td> <td>   26.878</td> <td>   20.120</td> <td> 0.000</td> <td>  488.117</td> <td>  593.493</td>\n",
       "</tr>\n",
       "<tr>\n",
       "  <th>Outlet_Location_Type__Tier 3</th>       <td> -554.9476</td> <td>   48.469</td> <td>  -11.450</td> <td> 0.000</td> <td> -649.959</td> <td> -459.937</td>\n",
       "</tr>\n",
       "<tr>\n",
       "  <th>Outlet_Type__Supermarket Type1</th>     <td>  630.5154</td> <td>   35.770</td> <td>   17.627</td> <td> 0.000</td> <td>  560.398</td> <td>  700.632</td>\n",
       "</tr>\n",
       "<tr>\n",
       "  <th>Outlet_Type__Supermarket Type2</th>     <td>  -51.5353</td> <td>   34.002</td> <td>   -1.516</td> <td> 0.130</td> <td> -118.187</td> <td>   15.116</td>\n",
       "</tr>\n",
       "<tr>\n",
       "  <th>Outlet_Type__Supermarket Type3</th>     <td>  943.7250</td> <td>   26.178</td> <td>   36.051</td> <td> 0.000</td> <td>  892.410</td> <td>  995.040</td>\n",
       "</tr>\n",
       "<tr>\n",
       "  <th>Outlet_Size__Medium</th>                <td>   90.1344</td> <td>   50.277</td> <td>    1.793</td> <td> 0.073</td> <td>   -8.420</td> <td>  188.689</td>\n",
       "</tr>\n",
       "<tr>\n",
       "  <th>Outlet_Size__Small</th>                 <td> -715.0532</td> <td>   68.885</td> <td>  -10.380</td> <td> 0.000</td> <td> -850.085</td> <td> -580.021</td>\n",
       "</tr>\n",
       "<tr>\n",
       "  <th>Outlet_Identifier__OUT013</th>          <td>  149.2577</td> <td>   43.527</td> <td>    3.429</td> <td> 0.001</td> <td>   63.934</td> <td>  234.581</td>\n",
       "</tr>\n",
       "<tr>\n",
       "  <th>Outlet_Identifier__OUT017</th>          <td>  192.6262</td> <td>   34.346</td> <td>    5.608</td> <td> 0.000</td> <td>  125.300</td> <td>  259.953</td>\n",
       "</tr>\n",
       "<tr>\n",
       "  <th>Outlet_Identifier__OUT018</th>          <td>  -51.5353</td> <td>   34.002</td> <td>   -1.516</td> <td> 0.130</td> <td> -118.187</td> <td>   15.116</td>\n",
       "</tr>\n",
       "<tr>\n",
       "  <th>Outlet_Identifier__OUT019</th>          <td> -401.9711</td> <td>   28.022</td> <td>  -14.345</td> <td> 0.000</td> <td> -456.902</td> <td> -347.041</td>\n",
       "</tr>\n",
       "<tr>\n",
       "  <th>Outlet_Identifier__OUT027</th>          <td>  943.7250</td> <td>   26.178</td> <td>   36.051</td> <td> 0.000</td> <td>  892.410</td> <td>  995.040</td>\n",
       "</tr>\n",
       "<tr>\n",
       "  <th>Outlet_Identifier__OUT035</th>          <td>  272.7572</td> <td>   31.048</td> <td>    8.785</td> <td> 0.000</td> <td>  211.895</td> <td>  333.619</td>\n",
       "</tr>\n",
       "<tr>\n",
       "  <th>Outlet_Identifier__OUT045</th>          <td>   75.4216</td> <td>   30.655</td> <td>    2.460</td> <td> 0.014</td> <td>   15.330</td> <td>  135.513</td>\n",
       "</tr>\n",
       "<tr>\n",
       "  <th>Outlet_Identifier__OUT046</th>          <td>  742.5079</td> <td>   30.056</td> <td>   24.704</td> <td> 0.000</td> <td>  683.590</td> <td>  801.426</td>\n",
       "</tr>\n",
       "<tr>\n",
       "  <th>Outlet_Identifier__OUT049</th>          <td> -802.0552</td> <td>   41.678</td> <td>  -19.244</td> <td> 0.000</td> <td> -883.755</td> <td> -720.356</td>\n",
       "</tr>\n",
       "<tr>\n",
       "  <th>Item_Type_Combined__Food</th>           <td>  -56.4963</td> <td>  107.037</td> <td>   -0.528</td> <td> 0.598</td> <td> -266.316</td> <td>  153.323</td>\n",
       "</tr>\n",
       "<tr>\n",
       "  <th>Item_Type_Combined__Non-Consumable</th> <td>  -31.5929</td> <td>   51.539</td> <td>   -0.613</td> <td> 0.540</td> <td> -132.621</td> <td>   69.435</td>\n",
       "</tr>\n",
       "<tr>\n",
       "  <th>Outlet_Size__Medium_MRP</th>            <td>    1.7530</td> <td>    0.674</td> <td>    2.600</td> <td> 0.009</td> <td>    0.431</td> <td>    3.075</td>\n",
       "</tr>\n",
       "<tr>\n",
       "  <th>Outlet_Size__Small_MRP</th>             <td>   -4.0257</td> <td>    0.637</td> <td>   -6.318</td> <td> 0.000</td> <td>   -5.275</td> <td>   -2.777</td>\n",
       "</tr>\n",
       "</table>\n",
       "<table class=\"simpletable\">\n",
       "<tr>\n",
       "  <th>Omnibus:</th>       <td>959.862</td> <th>  Durbin-Watson:     </th> <td>   2.007</td>\n",
       "</tr>\n",
       "<tr>\n",
       "  <th>Prob(Omnibus):</th> <td> 0.000</td>  <th>  Jarque-Bera (JB):  </th> <td>2436.740</td>\n",
       "</tr>\n",
       "<tr>\n",
       "  <th>Skew:</th>          <td> 0.648</td>  <th>  Prob(JB):          </th> <td>    0.00</td>\n",
       "</tr>\n",
       "<tr>\n",
       "  <th>Kurtosis:</th>      <td> 5.277</td>  <th>  Cond. No.          </th> <td>1.17e+16</td>\n",
       "</tr>\n",
       "</table>"
      ],
      "text/plain": [
       "<class 'statsmodels.iolib.summary.Summary'>\n",
       "\"\"\"\n",
       "                            OLS Regression Results                            \n",
       "==============================================================================\n",
       "Dep. Variable:      Item_Outlet_Sales   R-squared:                       0.573\n",
       "Model:                            OLS   Adj. R-squared:                  0.572\n",
       "Method:                 Least Squares   F-statistic:                     368.1\n",
       "Date:                Sun, 01 Apr 2018   Prob (F-statistic):               0.00\n",
       "Time:                        16:20:28   Log-Likelihood:                -71893.\n",
       "No. Observations:                8523   AIC:                         1.438e+05\n",
       "Df Residuals:                    8491   BIC:                         1.441e+05\n",
       "Df Model:                          31                                         \n",
       "Covariance Type:            nonrobust                                         \n",
       "======================================================================================================\n",
       "                                         coef    std err          t      P>|t|      [0.025      0.975]\n",
       "------------------------------------------------------------------------------------------------------\n",
       "Item_Weight                           -0.1077      2.628     -0.041      0.967      -5.259       5.044\n",
       "Item_Visibility                      -10.3827     15.899     -0.653      0.514     -41.548      20.782\n",
       "Item_MRP                              17.2642      0.583     29.630      0.000      16.122      18.406\n",
       "Outlet_Years                         -10.6948      3.801     -2.813      0.005     -18.146      -3.243\n",
       "Item_Fat_Content__Non_Edible         -31.5929     51.539     -0.613      0.540    -132.621      69.435\n",
       "Item_Fat_Content__Regular             39.9241     28.158      1.418      0.156     -15.272      95.120\n",
       "Item_Type__Breads                     10.6202     83.142      0.128      0.898    -152.358     173.598\n",
       "Item_Type__Breakfast                  18.0775    115.326      0.157      0.875    -207.989     244.144\n",
       "Item_Type__Canned                     31.3390     62.099      0.505      0.614     -90.391     153.069\n",
       "Item_Type__Dairy                     -54.0782     65.309     -0.828      0.408    -182.099      73.943\n",
       "Item_Type__Frozen Foods              -29.6158     58.235     -0.509      0.611    -143.770      84.538\n",
       "Item_Type__Fruits and Vegetables      33.6759     54.369      0.619      0.536     -72.901     140.253\n",
       "Item_Type__Hard Drinks               -68.0212    138.105     -0.493      0.622    -338.741     202.699\n",
       "Item_Type__Health and Hygiene          1.3440     46.990      0.029      0.977     -90.769      93.457\n",
       "Item_Type__Household                 -27.0600     42.183     -0.641      0.521    -109.749      55.629\n",
       "Item_Type__Meat                        9.1661     69.970      0.131      0.896    -127.991     146.323\n",
       "Item_Type__Others                     -5.8768     65.922     -0.089      0.929    -135.100     123.346\n",
       "Item_Type__Seafood                   189.6035    146.388      1.295      0.195     -97.352     476.559\n",
       "Item_Type__Snack Foods               -15.4150     54.665     -0.282      0.778    -122.572      91.742\n",
       "Item_Type__Soft Drinks               -77.4432    126.614     -0.612      0.541    -325.638     170.752\n",
       "Item_Type__Starchy Foods              15.2323    101.937      0.149      0.881    -184.589     215.054\n",
       "Outlet_Location_Type__Tier 2         540.8050     26.878     20.120      0.000     488.117     593.493\n",
       "Outlet_Location_Type__Tier 3        -554.9476     48.469    -11.450      0.000    -649.959    -459.937\n",
       "Outlet_Type__Supermarket Type1       630.5154     35.770     17.627      0.000     560.398     700.632\n",
       "Outlet_Type__Supermarket Type2       -51.5353     34.002     -1.516      0.130    -118.187      15.116\n",
       "Outlet_Type__Supermarket Type3       943.7250     26.178     36.051      0.000     892.410     995.040\n",
       "Outlet_Size__Medium                   90.1344     50.277      1.793      0.073      -8.420     188.689\n",
       "Outlet_Size__Small                  -715.0532     68.885    -10.380      0.000    -850.085    -580.021\n",
       "Outlet_Identifier__OUT013            149.2577     43.527      3.429      0.001      63.934     234.581\n",
       "Outlet_Identifier__OUT017            192.6262     34.346      5.608      0.000     125.300     259.953\n",
       "Outlet_Identifier__OUT018            -51.5353     34.002     -1.516      0.130    -118.187      15.116\n",
       "Outlet_Identifier__OUT019           -401.9711     28.022    -14.345      0.000    -456.902    -347.041\n",
       "Outlet_Identifier__OUT027            943.7250     26.178     36.051      0.000     892.410     995.040\n",
       "Outlet_Identifier__OUT035            272.7572     31.048      8.785      0.000     211.895     333.619\n",
       "Outlet_Identifier__OUT045             75.4216     30.655      2.460      0.014      15.330     135.513\n",
       "Outlet_Identifier__OUT046            742.5079     30.056     24.704      0.000     683.590     801.426\n",
       "Outlet_Identifier__OUT049           -802.0552     41.678    -19.244      0.000    -883.755    -720.356\n",
       "Item_Type_Combined__Food             -56.4963    107.037     -0.528      0.598    -266.316     153.323\n",
       "Item_Type_Combined__Non-Consumable   -31.5929     51.539     -0.613      0.540    -132.621      69.435\n",
       "Outlet_Size__Medium_MRP                1.7530      0.674      2.600      0.009       0.431       3.075\n",
       "Outlet_Size__Small_MRP                -4.0257      0.637     -6.318      0.000      -5.275      -2.777\n",
       "==============================================================================\n",
       "Omnibus:                      959.862   Durbin-Watson:                   2.007\n",
       "Prob(Omnibus):                  0.000   Jarque-Bera (JB):             2436.740\n",
       "Skew:                           0.648   Prob(JB):                         0.00\n",
       "Kurtosis:                       5.277   Cond. No.                     1.17e+16\n",
       "==============================================================================\n",
       "\n",
       "Warnings:\n",
       "[1] Standard Errors assume that the covariance matrix of the errors is correctly specified.\n",
       "[2] The smallest eigenvalue is 2.16e-24. This might indicate that there are\n",
       "strong multicollinearity problems or that the design matrix is singular.\n",
       "\"\"\""
      ]
     },
     "execution_count": 58,
     "metadata": {},
     "output_type": "execute_result"
    }
   ],
   "source": [
    "# Print out the statistics\n",
    "lin_model.summary()"
   ]
  },
  {
   "cell_type": "code",
   "execution_count": 80,
   "metadata": {
    "collapsed": true
   },
   "outputs": [],
   "source": [
    "lm=LinearRegression()"
   ]
  },
  {
   "cell_type": "code",
   "execution_count": 81,
   "metadata": {},
   "outputs": [
    {
     "data": {
      "text/plain": [
       "LinearRegression(copy_X=True, fit_intercept=True, n_jobs=1, normalize=False)"
      ]
     },
     "execution_count": 81,
     "metadata": {},
     "output_type": "execute_result"
    }
   ],
   "source": [
    "lm.fit(df1,y)"
   ]
  },
  {
   "cell_type": "code",
   "execution_count": 82,
   "metadata": {
    "collapsed": true
   },
   "outputs": [],
   "source": [
    "cdf=pd.DataFrame(lm.coef_,df1.columns,columns=['Coeff'])\n",
    "\n"
   ]
  },
  {
   "cell_type": "code",
   "execution_count": 83,
   "metadata": {
    "collapsed": true
   },
   "outputs": [],
   "source": [
    "#prediction\n",
    "pred=lm.predict(df2)"
   ]
  },
  {
   "cell_type": "code",
   "execution_count": 98,
   "metadata": {
    "collapsed": true
   },
   "outputs": [],
   "source": [
    "scores = cross_val_score(LinearRegression(), df1, y, scoring='r2',cv=10)\n"
   ]
  },
  {
   "cell_type": "code",
   "execution_count": 101,
   "metadata": {},
   "outputs": [
    {
     "data": {
      "text/plain": [
       "0.55818058206249466"
      ]
     },
     "execution_count": 101,
     "metadata": {},
     "output_type": "execute_result"
    }
   ],
   "source": [
    "scores_mean=np.mean(scores)\n",
    "scores_mean"
   ]
  },
  {
   "cell_type": "code",
   "execution_count": 86,
   "metadata": {},
   "outputs": [
    {
     "data": {
      "text/html": [
       "<div>\n",
       "<style>\n",
       "    .dataframe thead tr:only-child th {\n",
       "        text-align: right;\n",
       "    }\n",
       "\n",
       "    .dataframe thead th {\n",
       "        text-align: left;\n",
       "    }\n",
       "\n",
       "    .dataframe tbody tr th {\n",
       "        vertical-align: top;\n",
       "    }\n",
       "</style>\n",
       "<table border=\"1\" class=\"dataframe\">\n",
       "  <thead>\n",
       "    <tr style=\"text-align: right;\">\n",
       "      <th></th>\n",
       "      <th>df2</th>\n",
       "    </tr>\n",
       "  </thead>\n",
       "  <tbody>\n",
       "    <tr>\n",
       "      <th>Item_Weight</th>\n",
       "      <td>0</td>\n",
       "    </tr>\n",
       "    <tr>\n",
       "      <th>Item_Visibility</th>\n",
       "      <td>0</td>\n",
       "    </tr>\n",
       "    <tr>\n",
       "      <th>Item_MRP</th>\n",
       "      <td>0</td>\n",
       "    </tr>\n",
       "    <tr>\n",
       "      <th>Outlet_Years</th>\n",
       "      <td>0</td>\n",
       "    </tr>\n",
       "    <tr>\n",
       "      <th>Item_Fat_Content__Non_Edible</th>\n",
       "      <td>0</td>\n",
       "    </tr>\n",
       "    <tr>\n",
       "      <th>Item_Fat_Content__Regular</th>\n",
       "      <td>0</td>\n",
       "    </tr>\n",
       "    <tr>\n",
       "      <th>Item_Type__Breads</th>\n",
       "      <td>0</td>\n",
       "    </tr>\n",
       "    <tr>\n",
       "      <th>Item_Type__Breakfast</th>\n",
       "      <td>0</td>\n",
       "    </tr>\n",
       "    <tr>\n",
       "      <th>Item_Type__Canned</th>\n",
       "      <td>0</td>\n",
       "    </tr>\n",
       "    <tr>\n",
       "      <th>Item_Type__Dairy</th>\n",
       "      <td>0</td>\n",
       "    </tr>\n",
       "    <tr>\n",
       "      <th>Item_Type__Frozen Foods</th>\n",
       "      <td>0</td>\n",
       "    </tr>\n",
       "    <tr>\n",
       "      <th>Item_Type__Fruits and Vegetables</th>\n",
       "      <td>0</td>\n",
       "    </tr>\n",
       "    <tr>\n",
       "      <th>Item_Type__Hard Drinks</th>\n",
       "      <td>0</td>\n",
       "    </tr>\n",
       "    <tr>\n",
       "      <th>Item_Type__Health and Hygiene</th>\n",
       "      <td>0</td>\n",
       "    </tr>\n",
       "    <tr>\n",
       "      <th>Item_Type__Household</th>\n",
       "      <td>0</td>\n",
       "    </tr>\n",
       "    <tr>\n",
       "      <th>Item_Type__Meat</th>\n",
       "      <td>0</td>\n",
       "    </tr>\n",
       "    <tr>\n",
       "      <th>Item_Type__Others</th>\n",
       "      <td>0</td>\n",
       "    </tr>\n",
       "    <tr>\n",
       "      <th>Item_Type__Seafood</th>\n",
       "      <td>0</td>\n",
       "    </tr>\n",
       "    <tr>\n",
       "      <th>Item_Type__Snack Foods</th>\n",
       "      <td>0</td>\n",
       "    </tr>\n",
       "    <tr>\n",
       "      <th>Item_Type__Soft Drinks</th>\n",
       "      <td>0</td>\n",
       "    </tr>\n",
       "    <tr>\n",
       "      <th>Item_Type__Starchy Foods</th>\n",
       "      <td>0</td>\n",
       "    </tr>\n",
       "    <tr>\n",
       "      <th>Outlet_Location_Type__Tier 2</th>\n",
       "      <td>0</td>\n",
       "    </tr>\n",
       "    <tr>\n",
       "      <th>Outlet_Location_Type__Tier 3</th>\n",
       "      <td>0</td>\n",
       "    </tr>\n",
       "    <tr>\n",
       "      <th>Outlet_Type__Supermarket Type1</th>\n",
       "      <td>0</td>\n",
       "    </tr>\n",
       "    <tr>\n",
       "      <th>Outlet_Type__Supermarket Type2</th>\n",
       "      <td>0</td>\n",
       "    </tr>\n",
       "    <tr>\n",
       "      <th>Outlet_Type__Supermarket Type3</th>\n",
       "      <td>0</td>\n",
       "    </tr>\n",
       "    <tr>\n",
       "      <th>Outlet_Size__Medium</th>\n",
       "      <td>0</td>\n",
       "    </tr>\n",
       "    <tr>\n",
       "      <th>Outlet_Size__Small</th>\n",
       "      <td>0</td>\n",
       "    </tr>\n",
       "    <tr>\n",
       "      <th>Outlet_Identifier__OUT013</th>\n",
       "      <td>0</td>\n",
       "    </tr>\n",
       "    <tr>\n",
       "      <th>Outlet_Identifier__OUT017</th>\n",
       "      <td>0</td>\n",
       "    </tr>\n",
       "    <tr>\n",
       "      <th>Outlet_Identifier__OUT018</th>\n",
       "      <td>0</td>\n",
       "    </tr>\n",
       "    <tr>\n",
       "      <th>Outlet_Identifier__OUT019</th>\n",
       "      <td>0</td>\n",
       "    </tr>\n",
       "    <tr>\n",
       "      <th>Outlet_Identifier__OUT027</th>\n",
       "      <td>0</td>\n",
       "    </tr>\n",
       "    <tr>\n",
       "      <th>Outlet_Identifier__OUT035</th>\n",
       "      <td>0</td>\n",
       "    </tr>\n",
       "    <tr>\n",
       "      <th>Outlet_Identifier__OUT045</th>\n",
       "      <td>0</td>\n",
       "    </tr>\n",
       "    <tr>\n",
       "      <th>Outlet_Identifier__OUT046</th>\n",
       "      <td>0</td>\n",
       "    </tr>\n",
       "    <tr>\n",
       "      <th>Outlet_Identifier__OUT049</th>\n",
       "      <td>0</td>\n",
       "    </tr>\n",
       "    <tr>\n",
       "      <th>Item_Type_Combined__Food</th>\n",
       "      <td>0</td>\n",
       "    </tr>\n",
       "    <tr>\n",
       "      <th>Item_Type_Combined__Non-Consumable</th>\n",
       "      <td>0</td>\n",
       "    </tr>\n",
       "  </tbody>\n",
       "</table>\n",
       "</div>"
      ],
      "text/plain": [
       "                                    df2\n",
       "Item_Weight                           0\n",
       "Item_Visibility                       0\n",
       "Item_MRP                              0\n",
       "Outlet_Years                          0\n",
       "Item_Fat_Content__Non_Edible          0\n",
       "Item_Fat_Content__Regular             0\n",
       "Item_Type__Breads                     0\n",
       "Item_Type__Breakfast                  0\n",
       "Item_Type__Canned                     0\n",
       "Item_Type__Dairy                      0\n",
       "Item_Type__Frozen Foods               0\n",
       "Item_Type__Fruits and Vegetables      0\n",
       "Item_Type__Hard Drinks                0\n",
       "Item_Type__Health and Hygiene         0\n",
       "Item_Type__Household                  0\n",
       "Item_Type__Meat                       0\n",
       "Item_Type__Others                     0\n",
       "Item_Type__Seafood                    0\n",
       "Item_Type__Snack Foods                0\n",
       "Item_Type__Soft Drinks                0\n",
       "Item_Type__Starchy Foods              0\n",
       "Outlet_Location_Type__Tier 2          0\n",
       "Outlet_Location_Type__Tier 3          0\n",
       "Outlet_Type__Supermarket Type1        0\n",
       "Outlet_Type__Supermarket Type2        0\n",
       "Outlet_Type__Supermarket Type3        0\n",
       "Outlet_Size__Medium                   0\n",
       "Outlet_Size__Small                    0\n",
       "Outlet_Identifier__OUT013             0\n",
       "Outlet_Identifier__OUT017             0\n",
       "Outlet_Identifier__OUT018             0\n",
       "Outlet_Identifier__OUT019             0\n",
       "Outlet_Identifier__OUT027             0\n",
       "Outlet_Identifier__OUT035             0\n",
       "Outlet_Identifier__OUT045             0\n",
       "Outlet_Identifier__OUT046             0\n",
       "Outlet_Identifier__OUT049             0\n",
       "Item_Type_Combined__Food              0\n",
       "Item_Type_Combined__Non-Consumable    0"
      ]
     },
     "execution_count": 86,
     "metadata": {},
     "output_type": "execute_result"
    }
   ],
   "source": [
    "k=pd.DataFrame()\n",
    "k['df2']=df2.isnull().sum()\n",
    "k\n"
   ]
  },
  {
   "cell_type": "code",
   "execution_count": 87,
   "metadata": {},
   "outputs": [
    {
     "data": {
      "text/plain": [
       "array([ 1847.14185152,  1515.43927884,  1909.94504793, ...,  1853.80962535,\n",
       "        3560.74423873,  1287.93394413])"
      ]
     },
     "execution_count": 87,
     "metadata": {},
     "output_type": "execute_result"
    }
   ],
   "source": [
    "pred"
   ]
  },
  {
   "cell_type": "code",
   "execution_count": 90,
   "metadata": {
    "collapsed": true
   },
   "outputs": [],
   "source": [
    "df_pred = pd.DataFrame(pred.reshape(pred.shape))\n",
    "df_pred.to_csv(\"Bigmart_linreg.csv\",index=False)"
   ]
  },
  {
   "cell_type": "code",
   "execution_count": 91,
   "metadata": {
    "collapsed": true
   },
   "outputs": [],
   "source": [
    "import xgboost as xgb "
   ]
  },
  {
   "cell_type": "code",
   "execution_count": 92,
   "metadata": {
    "collapsed": true
   },
   "outputs": [],
   "source": [
    "from xgboost import XGBRegressor\n",
    "regressor=XGBRegressor()"
   ]
  },
  {
   "cell_type": "code",
   "execution_count": 93,
   "metadata": {},
   "outputs": [
    {
     "data": {
      "text/plain": [
       "XGBRegressor(base_score=0.5, booster='gbtree', colsample_bylevel=1,\n",
       "       colsample_bytree=1, gamma=0, learning_rate=0.1, max_delta_step=0,\n",
       "       max_depth=3, min_child_weight=1, missing=None, n_estimators=100,\n",
       "       n_jobs=1, nthread=None, objective='reg:linear', random_state=0,\n",
       "       reg_alpha=0, reg_lambda=1, scale_pos_weight=1, seed=None,\n",
       "       silent=True, subsample=1)"
      ]
     },
     "execution_count": 93,
     "metadata": {},
     "output_type": "execute_result"
    }
   ],
   "source": [
    "regressor.fit(df1,y)"
   ]
  },
  {
   "cell_type": "code",
   "execution_count": 94,
   "metadata": {
    "collapsed": true
   },
   "outputs": [],
   "source": [
    "pred_xg=regressor.predict(df2)"
   ]
  },
  {
   "cell_type": "code",
   "execution_count": 95,
   "metadata": {
    "collapsed": true,
    "scrolled": true
   },
   "outputs": [],
   "source": [
    "pred_xg=np.abs(pred_xg)"
   ]
  },
  {
   "cell_type": "code",
   "execution_count": 96,
   "metadata": {
    "collapsed": true
   },
   "outputs": [],
   "source": [
    "from sklearn.model_selection import cross_val_score\n",
    "acc=cross_val_score(regressor,df1,y,cv=10)"
   ]
  },
  {
   "cell_type": "code",
   "execution_count": 106,
   "metadata": {},
   "outputs": [
    {
     "data": {
      "text/plain": [
       "0.59190708681713455"
      ]
     },
     "execution_count": 106,
     "metadata": {},
     "output_type": "execute_result"
    }
   ],
   "source": [
    "acc_mean=np.mean(acc)\n",
    "acc_mean"
   ]
  },
  {
   "cell_type": "code",
   "execution_count": 385,
   "metadata": {
    "collapsed": true
   },
   "outputs": [],
   "source": [
    "from sklearn.model_selection import GridSearchCV"
   ]
  },
  {
   "cell_type": "code",
   "execution_count": 391,
   "metadata": {
    "collapsed": true
   },
   "outputs": [],
   "source": [
    "parameters=[ {'n_estimators':[50,80,100,120,150,200,500,1000]}]"
   ]
  },
  {
   "cell_type": "code",
   "execution_count": 392,
   "metadata": {
    "collapsed": true
   },
   "outputs": [],
   "source": [
    "gridsearch=GridSearchCV(estimator=regressor, param_grid=parameters,cv=10, n_jobs=-1)"
   ]
  },
  {
   "cell_type": "code",
   "execution_count": 393,
   "metadata": {
    "collapsed": true
   },
   "outputs": [],
   "source": [
    "gridsearch=gridsearch.fit(df1,y)"
   ]
  },
  {
   "cell_type": "code",
   "execution_count": 394,
   "metadata": {},
   "outputs": [
    {
     "data": {
      "text/plain": [
       "{'n_estimators': 50}"
      ]
     },
     "execution_count": 394,
     "metadata": {},
     "output_type": "execute_result"
    }
   ],
   "source": [
    "best_para=gridsearch.best_params_\n",
    "best_para"
   ]
  },
  {
   "cell_type": "code",
   "execution_count": 102,
   "metadata": {
    "collapsed": true
   },
   "outputs": [],
   "source": [
    "df_pred_xg = pd.DataFrame(pred_xg.reshape(pred_xg.shape))\n"
   ]
  },
  {
   "cell_type": "code",
   "execution_count": 103,
   "metadata": {
    "collapsed": true
   },
   "outputs": [],
   "source": [
    "df_pred_xg.to_csv(\"Bigmart_f.csv\",index=False)"
   ]
  },
  {
   "cell_type": "code",
   "execution_count": 107,
   "metadata": {
    "collapsed": true
   },
   "outputs": [],
   "source": [
    "from sklearn.ensemble import RandomForestRegressor\n"
   ]
  },
  {
   "cell_type": "code",
   "execution_count": 108,
   "metadata": {},
   "outputs": [
    {
     "data": {
      "text/plain": [
       "RandomForestRegressor(bootstrap=True, criterion='mse', max_depth=None,\n",
       "           max_features='auto', max_leaf_nodes=None,\n",
       "           min_impurity_decrease=0.0, min_impurity_split=None,\n",
       "           min_samples_leaf=1, min_samples_split=2,\n",
       "           min_weight_fraction_leaf=0.0, n_estimators=100, n_jobs=1,\n",
       "           oob_score=True, random_state=123456, verbose=0,\n",
       "           warm_start=False)"
      ]
     },
     "execution_count": 108,
     "metadata": {},
     "output_type": "execute_result"
    }
   ],
   "source": [
    "rf = RandomForestRegressor(n_estimators=100, oob_score=True, random_state=123456)\n",
    "rf.fit(df1,y)"
   ]
  },
  {
   "cell_type": "code",
   "execution_count": 109,
   "metadata": {
    "collapsed": true
   },
   "outputs": [],
   "source": [
    "pred_rf=rf.predict(df2)"
   ]
  },
  {
   "cell_type": "code",
   "execution_count": 110,
   "metadata": {},
   "outputs": [
    {
     "data": {
      "text/plain": [
       "array([ 1625.464146,  1377.493594,   559.584926, ...,  1684.134442,\n",
       "        3794.667178,  1434.359572])"
      ]
     },
     "execution_count": 110,
     "metadata": {},
     "output_type": "execute_result"
    }
   ],
   "source": [
    "pred_rf"
   ]
  },
  {
   "cell_type": "code",
   "execution_count": 111,
   "metadata": {
    "collapsed": true
   },
   "outputs": [],
   "source": [
    "df_pred_rf = pd.DataFrame(pred_rf.reshape(pred_rf.shape))\n",
    "df_pred_rf.to_csv(\"Bigmart_rf.csv\",index=False)"
   ]
  },
  {
   "cell_type": "code",
   "execution_count": 112,
   "metadata": {
    "collapsed": true
   },
   "outputs": [],
   "source": [
    "acc=cross_val_score(rf,df1,y,cv=10)"
   ]
  },
  {
   "cell_type": "code",
   "execution_count": 113,
   "metadata": {},
   "outputs": [
    {
     "data": {
      "text/plain": [
       "array([ 0.56875198,  0.58478165,  0.48994762,  0.56623972,  0.49010352,\n",
       "        0.58050772,  0.58266431,  0.5646013 ,  0.60115199,  0.53894107])"
      ]
     },
     "execution_count": 113,
     "metadata": {},
     "output_type": "execute_result"
    }
   ],
   "source": [
    "acc"
   ]
  },
  {
   "cell_type": "code",
   "execution_count": 114,
   "metadata": {},
   "outputs": [
    {
     "data": {
      "text/plain": [
       "0.55676908789592083"
      ]
     },
     "execution_count": 114,
     "metadata": {},
     "output_type": "execute_result"
    }
   ],
   "source": [
    "acc_rfmean=np.mean(acc)\n",
    "acc_rfmean"
   ]
  },
  {
   "cell_type": "code",
   "execution_count": null,
   "metadata": {
    "collapsed": true
   },
   "outputs": [],
   "source": []
  }
 ],
 "metadata": {
  "kernelspec": {
   "display_name": "Python 3",
   "language": "python",
   "name": "python3"
  },
  "language_info": {
   "codemirror_mode": {
    "name": "ipython",
    "version": 3
   },
   "file_extension": ".py",
   "mimetype": "text/x-python",
   "name": "python",
   "nbconvert_exporter": "python",
   "pygments_lexer": "ipython3",
   "version": "3.6.1"
  }
 },
 "nbformat": 4,
 "nbformat_minor": 2
}
